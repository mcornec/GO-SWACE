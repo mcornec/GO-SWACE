{
 "cells": [
  {
   "cell_type": "code",
   "execution_count": 1,
   "id": "0ed0acdf-b65a-4e39-99a4-6981992b7d7d",
   "metadata": {},
   "outputs": [],
   "source": [
    "import earthaccess,csv\n",
    "import xarray as xr\n",
    "from xarray.backends.api import open_datatree\n",
    "import matplotlib.pyplot as plt\n",
    "import cartopy.crs as ccrs\n",
    "import numpy as np\n",
    "from scipy.ndimage import generic_filter\n",
    "from scipy.ndimage import gaussian_filter\n",
    "from scipy.interpolate import griddata\n",
    "from scipy.ndimage import median_filter\n",
    "# %pip install utm\n",
    "# import utm\n",
    "from scipy.interpolate import LinearNDInterpolator"
   ]
  },
  {
   "cell_type": "markdown",
   "id": "669c8e5f-7c47-4c4c-bed0-446f757a99ac",
   "metadata": {},
   "source": [
    "Did not use packages in following cell:\n",
    "Got weird results..."
   ]
  },
  {
   "cell_type": "code",
   "execution_count": 2,
   "id": "27e356e7-1bef-437e-b90b-b52ec862eb84",
   "metadata": {},
   "outputs": [],
   "source": [
    "# conda install -c conda-forge libgl #Need to run this on the first time to install meom group packages\n",
    "# conda install conda-forge::pyinterp \n",
    "# %pip install jaxparrow\n",
    "# from jaxparrow import cyclogeostrophy\n",
    "# import jax.numpy as jnp\n",
    "# import jaxparrow as jxr\n",
    "# %pip install widetrax\n",
    "# import widetrax\n",
    "# from widetrax import Spectra as sp\n",
    "# from widetrax import DataPreprocessing as dp\n",
    "# from widetrax import Grads as gr"
   ]
  },
  {
   "cell_type": "code",
   "execution_count": 3,
   "id": "5c3cf188-851e-4e8b-b2bd-4a2b0c90bb10",
   "metadata": {},
   "outputs": [],
   "source": [
    "# Set default fontsizes for plots\n",
    "fontsize = 18\n",
    "\n",
    "plt.rc('font', size=fontsize)          # controls default text sizes\n",
    "plt.rc('axes', titlesize=fontsize)     # fontsize of the axes title\n",
    "plt.rc('axes', labelsize=fontsize)    # fontsize of the x and y labels\n",
    "plt.rc('xtick', labelsize=fontsize)    # fontsize of the tick labels\n",
    "plt.rc('ytick', labelsize=fontsize)    # fontsize of the tick labels\n",
    "plt.rc('legend', fontsize=fontsize)    # legend fontsize\n",
    "plt.rc('figure', titlesize=fontsize)  # fontsize of the figure title"
   ]
  },
  {
   "cell_type": "code",
   "execution_count": 4,
   "id": "d0a1b513-ea75-40c4-bfd2-ffdc0b6d2f4b",
   "metadata": {},
   "outputs": [],
   "source": [
    "def get_swot_data(latmin,latmax,lonmin,lonmax,tmin,tmax):\n",
    "    \"\"\"\n",
    "    Searches for SWOT data within the bounding box and time. Note that this doesn't work for unsmoothed data. \n",
    "    \n",
    "    latmin,latmax: latitude bounds, degrees N (south is negative); floats\n",
    "    lonmin, lonmax: longitude bounds, degrees E (west is negative); floats\n",
    "    tmin,tmax: temporal bounds; strings of form 'yyyy-mm-dd'\n",
    "    \"\"\"\n",
    "    bbox = (lonmin, latmin, lonmax, latmax) # lonW, latS, lonE, latN\n",
    "    results = earthaccess.search_data(\n",
    "        short_name=\"SWOT_L2_LR_SSH_EXPERT_2.0\",\n",
    "        bounding_box=bbox,\n",
    "        temporal=(tmin,tmax))\n",
    "    \n",
    "    print(\"Number of swaths: \" + str(len(results))) # not daily files, so will likely be more than # of days\n",
    "    paths = earthaccess.open(results) # is there a way to choose a subset of variables here?\n",
    "\n",
    "    return paths"
   ]
  },
  {
   "cell_type": "code",
   "execution_count": null,
   "id": "1f8737ae-987a-4841-b02d-54454e946557",
   "metadata": {},
   "outputs": [
    {
     "name": "stdout",
     "output_type": "stream",
     "text": [
      "Number of swaths: 84\n"
     ]
    },
    {
     "data": {
      "application/vnd.jupyter.widget-view+json": {
       "model_id": "be9d3f92589f46f187b89afa6d8919db",
       "version_major": 2,
       "version_minor": 0
      },
      "text/plain": [
       "QUEUEING TASKS | :   0%|          | 0/84 [00:00<?, ?it/s]"
      ]
     },
     "metadata": {},
     "output_type": "display_data"
    },
    {
     "data": {
      "application/vnd.jupyter.widget-view+json": {
       "model_id": "9b20e781843e486da93440b9f3457eb3",
       "version_major": 2,
       "version_minor": 0
      },
      "text/plain": [
       "PROCESSING TASKS | :   0%|          | 0/84 [00:00<?, ?it/s]"
      ]
     },
     "metadata": {},
     "output_type": "display_data"
    }
   ],
   "source": [
    "latmin,latmax = 34,38\n",
    "lonmin,lonmax = -73,-68\n",
    "tmin,tmax = '2024-04-03','2024-08-05' #'2024-04-17','2024-08-04'\n",
    "\n",
    "edward_paths = get_swot_data(latmin,latmax,lonmin,lonmax,tmin,tmax)"
   ]
  },
  {
   "cell_type": "code",
   "execution_count": null,
   "id": "a0f16b73-7d38-4fb2-921a-a1ee8fe0e9b6",
   "metadata": {},
   "outputs": [],
   "source": [
    "date_requested = '20240508'\n",
    "\n",
    "ind = 0 \n",
    "for i in edward_paths:\n",
    "    today = str(i).split('-')[-1].split('_')[-4][0:8]\n",
    "    if date_requested == today:\n",
    "        print(ind)\n",
    "    ind += 1"
   ]
  },
  {
   "cell_type": "code",
   "execution_count": null,
   "id": "b847ae77-b44f-41ac-9837-cca678ed0c79",
   "metadata": {},
   "outputs": [],
   "source": [
    "ds1 = xr.open_dataset(edward_paths[23])\n",
    "ds2 = xr.open_dataset(edward_paths[24])"
   ]
  },
  {
   "cell_type": "code",
   "execution_count": null,
   "id": "21582299-ae48-45c6-b840-50fd69237127",
   "metadata": {},
   "outputs": [],
   "source": [
    "def crop_dataset_by_lat_lon(ds,latmin,latmax,lonmin,lonmax):\n",
    "    mask = (ds.latitude >= latmin) & (ds.latitude <= latmax) & (ds.longitude >= lonmin+360) & (ds.longitude <= lonmax+360)\n",
    "    ds_masked = ds.where(mask, drop=True)\n",
    "    return ds_masked"
   ]
  },
  {
   "cell_type": "code",
   "execution_count": null,
   "id": "89371bd8-935b-481d-96a6-7388d3cabe76",
   "metadata": {},
   "outputs": [],
   "source": [
    "ds1_masked = crop_dataset_by_lat_lon(ds1,latmin,latmax,lonmin,lonmax)\n",
    "ds2_masked = crop_dataset_by_lat_lon(ds2,latmin,latmax,lonmin,lonmax)"
   ]
  },
  {
   "cell_type": "code",
   "execution_count": null,
   "id": "86d9bcb3-9905-4697-b743-7b0270a1586f",
   "metadata": {},
   "outputs": [],
   "source": [
    "# Quick velocities: need to change\n",
    "xv = np.arange(287, 293, 0.036)\n",
    "yv = np.arange(33,39, 0.036)\n",
    "grid_x, grid_y = np.meshgrid(xv, yv)\n",
    "\n",
    "def quick_velocities(ds, grid_x, grid_y):\n",
    "    ssh=ds.ssha_karin_2+ds.height_cor_xover\n",
    "    lats=ds.latitude\n",
    "    lons=ds.longitude\n",
    "    grid_ssh = griddata((lons.values.ravel(),lats.values.ravel()), ssh.values.ravel(), (grid_x, grid_y), method='linear')\n",
    "    return grid_ssh"
   ]
  },
  {
   "cell_type": "code",
   "execution_count": null,
   "id": "068df44c-c9d4-41e5-93bf-714113492c1d",
   "metadata": {},
   "outputs": [],
   "source": [
    "def compute_geos_current(ssh,lat):\n",
    "    \"\"\"\n",
    "    ssh: (m) Make sure this is first corrected with height_cor_xover from L2 data! \n",
    "    lat: degrees N\n",
    "    \"\"\"\n",
    "    \n",
    "    omega = 7.2921159e-05  # angular velocity of the Earth [rad/s]\n",
    "    fc = 2*omega*np.sin(lat*np.pi/180.)\n",
    "        \n",
    "    # avoid zero near equator, bound fc by min val as 1.e-8\n",
    "    f_coriolis = np.sign(fc)*np.maximum(np.abs(fc), 1.e-8)\n",
    "    \n",
    "    dx,dy = 4000,4000 # m i changed it to 4000 to match res? need to double check\n",
    "    gravity = 9.81\n",
    "\n",
    "    dsdy,dsdx=np.array(np.gradient(ssh, dx, edge_order=1))\n",
    "    vg = (gravity/np.array(f_coriolis))*dsdx\n",
    "    ug = -(gravity/np.array(f_coriolis))*dsdy\n",
    "    geos_current = np.sqrt(ug**2 + vg**2)\n",
    "    \n",
    "    return ug,vg,geos_current"
   ]
  },
  {
   "cell_type": "code",
   "execution_count": null,
   "id": "39080632-3ea4-4908-9b99-9613496a5368",
   "metadata": {},
   "outputs": [],
   "source": [
    "grid_ssh1 = quick_velocities(ds1_masked, grid_x, grid_y)\n",
    "grid_ssh2 = quick_velocities(ds2_masked, grid_x, grid_y)"
   ]
  },
  {
   "cell_type": "code",
   "execution_count": null,
   "id": "afc1e7b3-f32c-4ed4-aee1-89a23fbf408f",
   "metadata": {},
   "outputs": [],
   "source": [
    "#Calculate\n",
    "ug1,vg1,geos_current1 = compute_geos_current(grid_ssh1,grid_y)\n",
    "ug2,vg2,geos_current2 = compute_geos_current(grid_ssh2,grid_y)"
   ]
  },
  {
   "cell_type": "code",
   "execution_count": null,
   "id": "0c456ed6-e1ca-434a-b412-500f7d86380b",
   "metadata": {},
   "outputs": [],
   "source": [
    "plt.clf()\n",
    "\n",
    "fig,ax=plt.subplots(figsize=(8,5))\n",
    "plot = ax.pcolormesh(grid_x,grid_y,ug1,cmap='coolwarm',vmin=-1,vmax=1)\n",
    "plot = ax.pcolormesh(grid_x,grid_y,ug2,cmap='coolwarm',vmin=-1,vmax=1)\n",
    "cbar = plt.colorbar(plot,ax=ax)\n",
    "\n",
    "cbar.set_label('ug (m/s)', rotation=270, labelpad=15)\n",
    "\n",
    "ax.set_ylabel('Latitude (N$^{\\circ}$)')\n",
    "ax.set_xlabel('Longitude (E$^{\\circ}$)')\n",
    "ax.set_title('%s-%s-%s'%(date_requested[0:4],date_requested[4:6],date_requested[6:8]))\n",
    "\n",
    "plt.show()\n",
    "\n",
    "plt.clf()\n",
    "\n",
    "fig,ax=plt.subplots(figsize=(8,5))\n",
    "plot = ax.pcolormesh(grid_x,grid_y,vg1,cmap='coolwarm',vmin=-1,vmax=1)\n",
    "plot = ax.pcolormesh(grid_x,grid_y,vg2,cmap='coolwarm',vmin=-1,vmax=1)\n",
    "\n",
    "cbar = plt.colorbar(plot,ax=ax)\n",
    "\n",
    "cbar.set_label('vg (m/s)', rotation=270, labelpad=15)\n",
    "\n",
    "ax.set_ylabel('Latitude (N$^{\\circ}$)')\n",
    "ax.set_xlabel('Longitude (E$^{\\circ}$)')\n",
    "ax.set_title('%s-%s-%s'%(date_requested[0:4],date_requested[4:6],date_requested[6:8]))\n",
    "\n",
    "plt.show()"
   ]
  },
  {
   "cell_type": "code",
   "execution_count": null,
   "id": "e4a531f0-114a-4306-a797-bd73500158a8",
   "metadata": {},
   "outputs": [],
   "source": [
    "np.shape(ug1)"
   ]
  },
  {
   "cell_type": "code",
   "execution_count": null,
   "id": "fdbb5541-7729-4ba1-aa05-dc5b251d7277",
   "metadata": {},
   "outputs": [],
   "source": [
    "#Regrid to diagonal\n",
    "ds=ds1_masked\n",
    "lats=ds.latitude\n",
    "lons=ds.longitude\n",
    "# grid_ssh = griddata((lons.values.ravel(),lats.values.ravel()), ssh.values.ravel(), (grid_x, grid_y), method='linear')\n",
    "\n",
    "ug1_reg = griddata((grid_x.ravel(),grid_y.ravel()), ug1.ravel(), ((lons,lats)), method='linear')\n",
    "vg1_reg = griddata((grid_x.ravel(),grid_y.ravel()), vg1.ravel(), ((lons,lats)), method='linear')\n",
    "ug2_reg = griddata((grid_x.ravel(),grid_y.ravel()), ug2.ravel(), ((lons,lats)), method='linear')\n",
    "vg2_reg = griddata((grid_x.ravel(),grid_y.ravel()), vg2.ravel(), ((lons,lats)), method='linear')"
   ]
  },
  {
   "cell_type": "code",
   "execution_count": null,
   "id": "124aef74-1c8f-43b7-b70d-9f418e9e5467",
   "metadata": {},
   "outputs": [],
   "source": [
    "fig,ax=plt.subplots(figsize=(7,4))\n",
    "plot = ax.pcolormesh(lons, lats, ug1_reg, shading='auto',cmap='coolwarm',vmin=-1,vmax=1)  # 'shading' option can adjust how cells are rendered\n",
    "# plot = ax.pcolormesh(grid_x, grid_y, ug2, shading='auto',cmap='coolwarm',vmin=-1,vmax=1)  # 'shading' option can adjust how cells are rendered\n",
    "cbar = plt.colorbar(plot,ax=ax)\n",
    "cbar.set_label('u_along', rotation=270, labelpad=15)\n",
    "# ax.axis('equal')\n",
    "ax.set_xlim([288,292])\n",
    "ax.set_ylim([33.8,38])"
   ]
  },
  {
   "cell_type": "code",
   "execution_count": null,
   "id": "82cd9959-1306-4e54-8654-912841716a43",
   "metadata": {},
   "outputs": [],
   "source": [
    "lons"
   ]
  },
  {
   "cell_type": "code",
   "execution_count": null,
   "id": "425d73d9-2d97-4e60-aa7b-76d273168097",
   "metadata": {},
   "outputs": [],
   "source": [
    "def compute_vort_strain(ug, vg, lon, lat):\n",
    "    omega = 7.2921159e-05  # angular velocity of the Earth [rad/s]\n",
    "    fc = 2*omega*np.sin(lat*np.pi/180.)\n",
    "    # avoid zero near equator, bound fc by min val as 1.e-8\n",
    "    f_coriolis = np.sign(fc)*np.maximum(np.abs(fc), 1.e-8)\n",
    "    \n",
    "    dx,dy = 4000, 4000 # m\n",
    "    # dx, dy = jxr.tools.geometry.compute_spatial_step(lon, lat)\n",
    "    du_dy, du_dx = np.gradient(ug, dx, edge_order=2)\n",
    "    dv_dy, dv_dx = np.gradient(vg, dx, edge_order=2)\n",
    "    \n",
    "    ksi = (dv_dx - du_dy)/f_coriolis\n",
    "    sigma= np.sqrt((du_dx - dv_dy)**2 + (du_dy + dv_dx) ** 2)\n",
    "    sigma=sigma/f_coriolis \n",
    "    \n",
    "    return ksi, sigma"
   ]
  },
  {
   "cell_type": "code",
   "execution_count": null,
   "id": "25141777-11e7-4d42-ac43-8b87103cd64c",
   "metadata": {},
   "outputs": [],
   "source": [
    "wfl=5\n",
    "ug_smooth1=xr.apply_ufunc(generic_filter,ug1, np.mean, [wfl,wfl])\n",
    "vg_smooth1=xr.apply_ufunc(generic_filter,vg1, np.mean, [wfl,wfl])\n",
    "ug_smooth2=xr.apply_ufunc(generic_filter,ug2, np.mean, [wfl,wfl])\n",
    "vg_smooth2=xr.apply_ufunc(generic_filter,vg2, np.mean, [wfl,wfl])"
   ]
  },
  {
   "cell_type": "code",
   "execution_count": null,
   "id": "768ec081-fa5d-48f8-9cdf-69bb7d4a08f2",
   "metadata": {},
   "outputs": [],
   "source": [
    "ksi, sigma =compute_vort_strain(ug_smooth1,vg_smooth1,grid_x,grid_y)\n",
    "ksi2, sigma2 =compute_vort_strain(ug_smooth2,vg_smooth2,grid_x,grid_y)"
   ]
  },
  {
   "cell_type": "code",
   "execution_count": null,
   "id": "51c65cd1-45c1-4fb0-9720-dd6bebb4dece",
   "metadata": {},
   "outputs": [],
   "source": [
    "fig,ax=plt.subplots(figsize=(7,4))\n",
    "plot = ax.pcolormesh(grid_x,grid_y,ksi, shading='auto',cmap='coolwarm',vmin=-1,vmax=1)  # 'shading' option can adjust how cells are rendered\n",
    "plot = ax.pcolormesh(grid_x, grid_y, ksi2, shading='auto',cmap='coolwarm',vmin=-1,vmax=1)  # 'shading' option can adjust how cells are rendered\n",
    "cbar = plt.colorbar(plot,ax=ax)\n",
    "cbar.set_label('vorticity', rotation=270, labelpad=15)\n",
    "# ax.axis('equal')\n",
    "ax.set_xlim([288,292])\n",
    "ax.set_ylim([33.8,38])\n",
    "ax.set_ylabel('Latitude (N$^{\\circ}$)')\n",
    "ax.set_xlabel('Longitude (E$^{\\circ}$)')\n",
    "ax.set_title('%s-%s-%s'%(date_requested[0:4],date_requested[4:6],date_requested[6:8]))"
   ]
  },
  {
   "cell_type": "code",
   "execution_count": null,
   "id": "76d3bd08-faa6-4542-b11d-9d3c70058f41",
   "metadata": {},
   "outputs": [],
   "source": [
    "fig,ax=plt.subplots(figsize=(7,4))\n",
    "plot = ax.pcolormesh(grid_x,grid_y,sigma, shading='auto',cmap='Reds',vmin=0,vmax=1)  # 'shading' option can adjust how cells are rendered\n",
    "plot = ax.pcolormesh(grid_x, grid_y, sigma2, shading='auto',cmap='Reds',vmin=0,vmax=1)  # 'shading' option can adjust how cells are rendered\n",
    "cbar = plt.colorbar(plot,ax=ax)\n",
    "cbar.set_label('strain/f', rotation=270, labelpad=15)\n",
    "# ax.axis('equal')\n",
    "ax.set_xlim([288,292])\n",
    "ax.set_ylim([33.8,38])\n",
    "ax.set_ylabel('Latitude (N$^{\\circ}$)')\n",
    "ax.set_xlabel('Longitude (E$^{\\circ}$)')\n",
    "ax.set_title('%s-%s-%s'%(date_requested[0:4],date_requested[4:6],date_requested[6:8]))"
   ]
  },
  {
   "cell_type": "code",
   "execution_count": null,
   "id": "b520eb70-14a2-459f-9009-28e4a41eb20b",
   "metadata": {},
   "outputs": [],
   "source": [
    "results = earthaccess.search_datasets(instrument=\"oci\")\n",
    "\n",
    "tspan = (\"2024-05-08\", \"2024-05-08\")\n",
    "#bbox = (-58, 37.5, -52, 41) #howie\n",
    "bbox = (-73, 35, -70, 37) #edward\n",
    "# bbox=(-61, 34, -59, 39) #patrick\n",
    "clouds = (0, 100)\n",
    "results = earthaccess.search_data(\n",
    "    short_name=\"PACE_OCI_L2_BGC_NRT\",\n",
    "    temporal=tspan,\n",
    "    bounding_box=bbox,\n",
    "    cloud_cover=clouds,\n",
    ")\n",
    "\n",
    "paths = earthaccess.open(results) #'streaming' data\n",
    "\n",
    "datatree = open_datatree(paths[0])\n",
    "datatree\n",
    "dataset = xr.merge(datatree.to_dict().values())\n",
    "dataset\n",
    "dataset = dataset.set_coords((\"longitude\", \"latitude\"))"
   ]
  },
  {
   "cell_type": "code",
   "execution_count": null,
   "id": "659c74da-1a98-4813-a7bb-106abd464603",
   "metadata": {},
   "outputs": [],
   "source": [
    "lat=dataset['latitude']\n",
    "lon=dataset['longitude']\n",
    "chl=dataset['chlor_a']\n",
    "newchl=griddata((lon.values.ravel()+360,lat.values.ravel()),chl.values.ravel(),(grid_x,grid_y), method='linear')"
   ]
  },
  {
   "cell_type": "code",
   "execution_count": null,
   "id": "f578c05f-22dd-4772-9855-ec18494fb439",
   "metadata": {},
   "outputs": [],
   "source": [
    "moana_ds = xr.open_dataset('/home/jovyan/GO-SWACE/moana_dataset_merged.nc') # should rename this with file extention .nc\n",
    "lon = moana_ds.variables['longitude'] \n",
    "lat = moana_ds.variables['latitude'] \n",
    "pro = moana_ds.variables['prococcus_moana']\n",
    "pico = moana_ds.variables['picoeuk_moana'] \n",
    "syn = moana_ds.variables['syncoccus_moana'] \n",
    "\n",
    "newpro=griddata((lon.values.ravel()+360,lat.values.ravel()),pro.values.ravel(),(grid_x,grid_y), method='linear')\n",
    "newpico=griddata((lon.values.ravel()+360,lat.values.ravel()),pico.values.ravel(),(grid_x,grid_y), method='linear')\n",
    "newsyn=griddata((lon.values.ravel()+360,lat.values.ravel()),syn.values.ravel(),(grid_x,grid_y), method='linear')"
   ]
  },
  {
   "cell_type": "code",
   "execution_count": null,
   "id": "31da2d7e-cd56-40c3-9dba-ea93ade51b99",
   "metadata": {},
   "outputs": [],
   "source": [
    "fig,ax=plt.subplots(figsize=(7,4))\n",
    "plot = ax.pcolormesh(grid_x,grid_y,newchl, shading='auto',cmap='Spectral_r',vmin=0,vmax=0.5)  # 'shading' option can adjust how cells are rendered\n",
    "cbar = plt.colorbar(plot,ax=ax)\n",
    "cbar.set_label('chl', rotation=270, labelpad=15)\n",
    "ax.axis('equal')\n",
    "ax.set_xlim([288,292])\n",
    "ax.set_ylim([33.8,38])\n",
    "ax.set_ylabel('Latitude (N$^{\\circ}$)')\n",
    "ax.set_xlabel('Longitude (E$^{\\circ}$)')\n",
    "ax.set_title('%s-%s-%s'%(date_requested[0:4],date_requested[4:6],date_requested[6:8]))"
   ]
  },
  {
   "cell_type": "code",
   "execution_count": null,
   "id": "72d650a7-e385-4a4e-bcc4-1def0faed5fb",
   "metadata": {},
   "outputs": [],
   "source": [
    "np.nan"
   ]
  },
  {
   "cell_type": "code",
   "execution_count": null,
   "id": "ffc1a5cf-9643-4571-b133-c2e09e741827",
   "metadata": {},
   "outputs": [],
   "source": [
    "#lets delete top to make sure we dont get extra corrs away from eddy\n",
    "ksi[grid_y>37]=np.nan"
   ]
  },
  {
   "cell_type": "code",
   "execution_count": null,
   "id": "d2b01a96-3dc1-427d-bf30-228d53d5e700",
   "metadata": {},
   "outputs": [],
   "source": [
    "ksi"
   ]
  },
  {
   "cell_type": "code",
   "execution_count": null,
   "id": "ca1b3976-da40-4e55-9935-c500775bc66c",
   "metadata": {},
   "outputs": [],
   "source": [
    "fig = plt.figure()\n",
    "ax = plt.axes()\n",
    "# plot=plt.scatter(ksi,sigma,c=newchl, cmap=\"Spectral_r\")\n",
    "plot=plt.scatter(np.flip(ksi),np.flip(sigma),c=np.flip(newchl), cmap=\"Spectral_r\")\n",
    "\n",
    "ax.axline((0, 0), slope=-1, color='black',linestyle='--')\n",
    "ax.axline((0, 0), slope=1, color='black',linestyle='--')\n",
    "ax.grid(True)\n",
    "cbar = plt.colorbar(plot,ax=ax)\n",
    "cbar.set_label('chlorophyll-a ($mg\\cdot m^{-3}$)', rotation=270, labelpad=30)\n",
    "ax.set_ylim([0, 1])\n",
    "ax.set_xlim([-1, 1])\n",
    "ax.set_ylabel('strain/f')\n",
    "ax.set_xlabel('vorticity/f')\n",
    "ax.set_title('%s-%s-%s'%(date_requested[0:4],date_requested[4:6],date_requested[6:8]))"
   ]
  },
  {
   "cell_type": "code",
   "execution_count": null,
   "id": "30f3508c-d3c3-490f-848e-0be797048ca3",
   "metadata": {},
   "outputs": [],
   "source": [
    "fig = plt.figure()\n",
    "ax = plt.axes()\n",
    "plot=plt.scatter(ksi,sigma,c=newpro, cmap=\"Spectral_r\")\n",
    "ax.axline((0, 0), slope=-1, color='black',linestyle='--')\n",
    "ax.axline((0, 0), slope=1, color='black',linestyle='--')\n",
    "ax.grid(True)\n",
    "cbar = plt.colorbar(plot,ax=ax)\n",
    "cbar.set_label('pro (cells $ \\cdot ml^{-1}$)', rotation=270, labelpad=30)\n",
    "ax.set_ylim([0, 1])\n",
    "ax.set_xlim([-1, 1])\n",
    "ax.set_ylabel('strain/f')\n",
    "ax.set_xlabel('vorticity/f')"
   ]
  },
  {
   "cell_type": "code",
   "execution_count": null,
   "id": "a5698b10-f4e6-46b7-ab8a-4b7655ef383d",
   "metadata": {},
   "outputs": [],
   "source": [
    "fig = plt.figure()\n",
    "ax = plt.axes()\n",
    "plot=plt.scatter(ksi,sigma,c=newpico, cmap=\"Spectral_r\")\n",
    "ax.axline((0, 0), slope=-1, color='black',linestyle='--')\n",
    "ax.axline((0, 0), slope=1, color='black',linestyle='--')\n",
    "ax.grid(True)\n",
    "cbar = plt.colorbar(plot,ax=ax)\n",
    "ax.set_ylim([0, 1])\n",
    "ax.set_xlim([-1, 1])\n",
    "cbar.set_label('Picoeukaryotes (cells $ \\cdot ml^{-1}$)', rotation=270, labelpad=30)\n",
    "ax.set_ylabel('strain/f')\n",
    "ax.set_xlabel('vorticity/f')"
   ]
  },
  {
   "cell_type": "code",
   "execution_count": null,
   "id": "4988099c-805c-43be-bbdd-591875ab9903",
   "metadata": {},
   "outputs": [],
   "source": [
    "fig = plt.figure()\n",
    "ax = plt.axes()\n",
    "plot=plt.scatter(ksi,sigma,c=newsyn, cmap=\"Spectral_r\",vmax=15000)\n",
    "ax.axline((0, 0), slope=-1, color='black',linestyle='--')\n",
    "ax.axline((0, 0), slope=1, color='black',linestyle='--')\n",
    "ax.grid(True)\n",
    "cbar = plt.colorbar(plot,ax=ax)\n",
    "ax.set_ylim([0, 1])\n",
    "ax.set_xlim([-1, 1])\n",
    "cbar.set_label('syn (cells $ \\cdot ml^{-1}$)', rotation=270, labelpad=30)\n",
    "ax.set_ylabel('strain/f')\n",
    "ax.set_xlabel('vorticity/f')"
   ]
  },
  {
   "cell_type": "code",
   "execution_count": null,
   "id": "e25de753-59ac-451a-b7be-abd6a83670d3",
   "metadata": {},
   "outputs": [],
   "source": [
    "fig = plt.figure()\n",
    "ax = plt.axes()\n",
    "plot=plt.scatter(ksi,sigma,c=np.divide(newpro,newsyn), cmap=\"Spectral_r\",vmax=100)\n",
    "ax.axline((0, 0), slope=-1, color='black',linestyle='--')\n",
    "ax.axline((0, 0), slope=1, color='black',linestyle='--')\n",
    "ax.grid(True)\n",
    "cbar = plt.colorbar(plot,ax=ax)\n",
    "ax.set_ylim([0, 1])\n",
    "ax.set_xlim([-1, 1])\n",
    "cbar.set_label('pro:syn', rotation=270, labelpad=30)\n",
    "ax.set_ylabel('strain/f')\n",
    "ax.set_xlabel('vorticity/f')"
   ]
  },
  {
   "cell_type": "code",
   "execution_count": null,
   "id": "31190d56-f0c6-4d58-a3fe-9e793b6310d2",
   "metadata": {},
   "outputs": [],
   "source": [
    "fig = plt.figure()\n",
    "ax = plt.axes()\n",
    "# plot=plt.scatter(ksi,sigma,c=np.divide(newpro,newpico), cmap=\"Spectral_r\")\n",
    "plot=plt.scatter(np.flip(ksi),np.flip(sigma),c=np.divide(np.flip(newpro),np.flip(newpico)), cmap=\"Spectral_r\")\n",
    "ax.axline((0, 0), slope=-1, color='black',linestyle='--')\n",
    "ax.axline((0, 0), slope=1, color='black',linestyle='--')\n",
    "ax.grid(True)\n",
    "cbar = plt.colorbar(plot,ax=ax)\n",
    "ax.set_ylim([0, 1])\n",
    "ax.set_xlim([-1, 1])\n",
    "cbar.set_label('pro:pico', rotation=270, labelpad=30)\n",
    "ax.set_ylabel('strain/f')\n",
    "ax.set_xlabel('vorticity/f')"
   ]
  },
  {
   "cell_type": "code",
   "execution_count": null,
   "id": "6d3d5145-d9bc-48d2-82a9-727314956795",
   "metadata": {},
   "outputs": [],
   "source": [
    "#regrid chl-a to same grid. compute JPDF"
   ]
  },
  {
   "cell_type": "code",
   "execution_count": null,
   "id": "2d26819e-212b-4785-92a9-68fb0aaca3c2",
   "metadata": {},
   "outputs": [],
   "source": [
    "# # Compute derivatives\n",
    "# dx, dy = jxr.tools.geometry.compute_spatial_step(lons.values, lats.values)\n",
    "# mask = np.zeros_like(ug1_reg)\n",
    "# mask2 = np.zeros_like(ug2_reg)\n",
    "\n",
    "# wfl=5\n",
    "# ug_smooth1=xr.apply_ufunc(generic_filter,ug1_reg, np.mean, [wfl,wfl])\n",
    "# vg_smooth1=xr.apply_ufunc(generic_filter,vg1_reg, np.mean, [wfl,wfl])\n",
    "# ug_smooth2=xr.apply_ufunc(generic_filter,ug2_reg, np.mean, [wfl,wfl])\n",
    "# vg_smooth2=xr.apply_ufunc(generic_filter,vg2_reg, np.mean, [wfl,wfl])\n",
    "\n",
    "# dv_dx1 = jxr.tools.operators.derivative(vg_smooth1, dx, mask=mask, axis=1, padding=\"right\")  # ∂v/∂x\n",
    "# du_dy1 = jxr.tools.operators.derivative(ug_smooth1, dy, mask=mask, axis=0, padding=\"right\")  # ∂u/∂y\n",
    "# dv_dx2 = jxr.tools.operators.derivative(vg_smooth2, dx, mask=mask2, axis=1, padding=\"right\")  # ∂v/∂x\n",
    "# du_dy2 = jxr.tools.operators.derivative(ug_smooth2, dy, mask=mask2, axis=0, padding=\"right\")  # ∂u/∂y\n",
    "\n",
    "# # # Compute vorticity: ∂v/∂x - ∂u/∂y\n",
    "# vorticity_f = dv_dx - du_dy\n",
    "# vorticity_f2 = dv_dx2 - du_dy2\n",
    "\n",
    "# # du_dy, du_dx = np.gradient(ug_smooth1, dx, edge_order=2)\n",
    "# # dv_dy, dv_dx = np.gradient(vg_smooth1, dx, edge_order=2)\n",
    "\n",
    "# # vorticity_f = (dv_dx - du_dy)/f_coriolis\n",
    "\n",
    "# lat=lats.values;\n",
    "# omega = 7.2921159e-05  # angular velocity of the Earth [rad/s]\n",
    "# fc = 2*omega*np.sin(lat*np.pi/180.)\n",
    "    \n",
    "# # avoid zero near equator, bound fc by min val as 1.e-8\n",
    "# f_coriolis = np.sign(fc)*np.maximum(np.abs(fc), 1.e-8)\n",
    "\n",
    "# vorticity_f=vorticity_f/f_coriolis\n",
    "# vorticity_f2=vorticity_f2/f_coriolis"
   ]
  },
  {
   "cell_type": "code",
   "execution_count": null,
   "id": "db723c15-2607-401c-b700-2797b3642c7c",
   "metadata": {},
   "outputs": [],
   "source": [
    "# dataset=ds1_masked\n",
    "# lat_t = jnp.array(dataset.latitude.values)\n",
    "# lon_t = jnp.array(dataset.longitude.values)\n",
    "# # ssh_t = jnp.array(dataset.ssh.values)\n",
    "# ssh_t = jnp.array(dataset.ssha_karin_2.values+dataset.height_cor_xover.values)\n",
    "\n",
    "# u_geos_u, v_geos_v, *_ = jxr.geostrophy(ssh_t, lat_t, lon_t, return_grids=True)"
   ]
  },
  {
   "cell_type": "code",
   "execution_count": null,
   "id": "9ad24621-32a7-46c1-87b0-8f814d04e82c",
   "metadata": {},
   "outputs": [],
   "source": [
    "# dx, dy = jxr.tools.geometry.compute_spatial_step(ds1_masked.latitude.values, ds1_masked.longitude.values)"
   ]
  },
  {
   "cell_type": "code",
   "execution_count": null,
   "id": "c78f3373-a344-459a-818b-a1aa165d06fc",
   "metadata": {},
   "outputs": [],
   "source": [
    "# # modify widetrax\n",
    "# import jax.numpy as jnp\n",
    "# import jaxparrow as jxr\n",
    "# #from WIDETRAX:\n",
    "\n",
    "# def compute_vorticity_1_ds(dataset):\n",
    "#     \"\"\"\n",
    "#     Compute the vorticity from a single xarray dataset.\n",
    "\n",
    "#     Parameters\n",
    "#     -----------\n",
    "#     dataset : xarray.Dataset\n",
    "#         Dataset containing geophysical variables like `ssha`, `ssh`, or `ssh_filtered`.\n",
    "#     variable_name : str\n",
    "#         The name of the variable to use for calculation. Default is \"ssha\".\n",
    "#     mask : np.ndarray, optional \n",
    "#         Mask array indicating zones to exclude (1 for land, 0 for ocean).\n",
    "#         If None, a zero array is used.\n",
    "\n",
    "\n",
    "#     Returns\n",
    "#     --------\n",
    "#     vorticity_f : np.ndarray\n",
    "#         2D array of vorticity.\n",
    "#     \"\"\"\n",
    "    \n",
    "#     # if variable_name not in dataset:\n",
    "#     #     raise ValueError(f\"The dataset does not contain the variable '{variable_name}'.\")\n",
    "\n",
    "#     # # Handle the case where the variable is already \"ssh\"\n",
    "#     # if variable_name != \"ssh\":\n",
    "#     #     dataset[\"ssh\"] = dataset[variable_name] + dataset.get(\"mdt\", 0)  # Use \"mdt\" if it exists, else assume 0\n",
    "#     # else:\n",
    "#     #     dataset[\"ssh\"] = dataset[variable_name]\n",
    "\n",
    "#     # ssh=ds2_masked.ssha_karin_2+ds2_masked.height_cor_xover\n",
    "\n",
    "#     lat_t = jnp.array(dataset.latitude.values)\n",
    "#     lon_t = jnp.array(dataset.longitude.values)\n",
    "#     # ssh_t = jnp.array(dataset.ssh.values)\n",
    "#     ssh_t = jnp.array(dataset.ssha_karin_2.values+dataset.height_cor_xover.values)\n",
    "\n",
    "#     # Compute spatial steps dx and dy\n",
    "#     dx, dy = jxr.tools.geometry.compute_spatial_step(lat_t, lon_t)\n",
    "\n",
    "#     # Compute geostrophic velocities\n",
    "#     u_geos_u, v_geos_v, *_ = jxr.geostrophy(ssh_t, lat_t, lon_t, return_grids=True)\n",
    "\n",
    "#     # Initialize mask if not provided\n",
    "#     # if mask is None:\n",
    "#     mask = np.zeros_like(u_geos_u)\n",
    "\n",
    "#     # Compute derivatives\n",
    "#     dv_dx = jxr.tools.operators.derivative(v_geos_v, dx, mask=mask, axis=1, padding=\"right\")  # ∂v/∂x\n",
    "#     du_dy = jxr.tools.operators.derivative(u_geos_u, dy, mask=mask, axis=0, padding=\"right\")  # ∂u/∂y\n",
    "\n",
    "#     # Compute vorticity: ∂v/∂x - ∂u/∂y\n",
    "#     vorticity_f = dv_dx - du_dy\n",
    "\n",
    "#     return vorticity_f"
   ]
  },
  {
   "cell_type": "code",
   "execution_count": null,
   "id": "4a83710f-dd73-4be2-b61f-d34d95f48668",
   "metadata": {},
   "outputs": [],
   "source": [
    "# vort=compute_vorticity_1_ds(ds1_masked)"
   ]
  },
  {
   "cell_type": "code",
   "execution_count": null,
   "id": "b2a9658f-7849-4c4e-ae3e-bbf9f9e01f5e",
   "metadata": {},
   "outputs": [],
   "source": [
    "# ds1_masked"
   ]
  },
  {
   "cell_type": "code",
   "execution_count": null,
   "id": "1356dd56-3c0d-4926-a66e-dcec1408f2f1",
   "metadata": {},
   "outputs": [],
   "source": [
    "# lat=ds1_masked.latitude;\n",
    "# omega = 7.2921159e-05  # angular velocity of the Earth [rad/s]\n",
    "# fc = 2*omega*np.sin(lat*np.pi/180.)\n",
    "    \n",
    "# # avoid zero near equator, bound fc by min val as 1.e-8\n",
    "# f_coriolis = np.sign(fc)*np.maximum(np.abs(fc), 1.e-8)"
   ]
  }
 ],
 "metadata": {
  "kernelspec": {
   "display_name": "Python 3 (ipykernel)",
   "language": "python",
   "name": "python3"
  },
  "language_info": {
   "codemirror_mode": {
    "name": "ipython",
    "version": 3
   },
   "file_extension": ".py",
   "mimetype": "text/x-python",
   "name": "python",
   "nbconvert_exporter": "python",
   "pygments_lexer": "ipython3",
   "version": "3.10.14"
  }
 },
 "nbformat": 4,
 "nbformat_minor": 5
}
