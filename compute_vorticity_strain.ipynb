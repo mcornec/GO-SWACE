{
 "cells": [
  {
   "cell_type": "code",
   "execution_count": null,
   "id": "0ed0acdf-b65a-4e39-99a4-6981992b7d7d",
   "metadata": {},
   "outputs": [],
   "source": [
    "import earthaccess,csv\n",
    "import xarray as xr\n",
    "from xarray.backends.api import open_datatree\n",
    "import matplotlib.pyplot as plt\n",
    "import cartopy.crs as ccrs\n",
    "import numpy as np\n",
    "from scipy.ndimage import generic_filter\n",
    "from scipy.ndimage import gaussian_filter\n",
    "from scipy.interpolate import griddata\n",
    "from scipy.ndimage import median_filter\n",
    "\n",
    "from scipy.interpolate import LinearNDInterpolator"
   ]
  },
  {
   "cell_type": "code",
   "execution_count": null,
   "id": "e4a99b83-380d-4df7-956a-c748e1160559",
   "metadata": {},
   "outputs": [],
   "source": [
    "%pip install haversine\n",
    "import haversine as hs   \n",
    "from haversine import Unit"
   ]
  },
  {
   "cell_type": "code",
   "execution_count": null,
   "id": "5c3cf188-851e-4e8b-b2bd-4a2b0c90bb10",
   "metadata": {},
   "outputs": [],
   "source": [
    "# Set default fontsizes for plots\n",
    "fontsize = 18\n",
    "\n",
    "plt.rc('font', size=fontsize)          # controls default text sizes\n",
    "plt.rc('axes', titlesize=fontsize)     # fontsize of the axes title\n",
    "plt.rc('axes', labelsize=fontsize)    # fontsize of the x and y labels\n",
    "plt.rc('xtick', labelsize=fontsize)    # fontsize of the tick labels\n",
    "plt.rc('ytick', labelsize=fontsize)    # fontsize of the tick labels\n",
    "plt.rc('legend', fontsize=fontsize)    # legend fontsize\n",
    "plt.rc('figure', titlesize=fontsize)  # fontsize of the figure title"
   ]
  },
  {
   "cell_type": "code",
   "execution_count": null,
   "id": "d0a1b513-ea75-40c4-bfd2-ffdc0b6d2f4b",
   "metadata": {},
   "outputs": [],
   "source": [
    "def get_swot_data(latmin,latmax,lonmin,lonmax,tmin,tmax):\n",
    "    \"\"\"\n",
    "    Searches for SWOT data within the bounding box and time. Note that this doesn't work for unsmoothed data. \n",
    "    \n",
    "    latmin,latmax: latitude bounds, degrees N (south is negative); floats\n",
    "    lonmin, lonmax: longitude bounds, degrees E (west is negative); floats\n",
    "    tmin,tmax: temporal bounds; strings of form 'yyyy-mm-dd'\n",
    "    \"\"\"\n",
    "    bbox = (lonmin, latmin, lonmax, latmax) # lonW, latS, lonE, latN\n",
    "    results = earthaccess.search_data(\n",
    "        short_name=\"SWOT_L2_LR_SSH_EXPERT_2.0\",\n",
    "        bounding_box=bbox,\n",
    "        temporal=(tmin,tmax))\n",
    "    \n",
    "    print(\"Number of swaths: \" + str(len(results))) # not daily files, so will likely be more than # of days\n",
    "    paths = earthaccess.open(results) # is there a way to choose a subset of variables here?\n",
    "\n",
    "    return paths"
   ]
  },
  {
   "cell_type": "code",
   "execution_count": null,
   "id": "1f8737ae-987a-4841-b02d-54454e946557",
   "metadata": {},
   "outputs": [],
   "source": [
    "latmin,latmax = 34,38\n",
    "lonmin,lonmax = -73,-68\n",
    "tmin,tmax = '2024-04-03','2024-08-05' #'2024-04-17','2024-08-04'\n",
    "\n",
    "edward_paths = get_swot_data(latmin,latmax,lonmin,lonmax,tmin,tmax)"
   ]
  },
  {
   "cell_type": "code",
   "execution_count": null,
   "id": "a0f16b73-7d38-4fb2-921a-a1ee8fe0e9b6",
   "metadata": {},
   "outputs": [],
   "source": [
    "date_requested = '20240508'\n",
    "\n",
    "ind = 0 \n",
    "for i in edward_paths:\n",
    "    today = str(i).split('-')[-1].split('_')[-4][0:8]\n",
    "    if date_requested == today:\n",
    "        print(ind)\n",
    "    ind += 1"
   ]
  },
  {
   "cell_type": "code",
   "execution_count": null,
   "id": "b847ae77-b44f-41ac-9837-cca678ed0c79",
   "metadata": {},
   "outputs": [],
   "source": [
    "ds1 = xr.open_dataset(edward_paths[23])\n",
    "ds2 = xr.open_dataset(edward_paths[24])"
   ]
  },
  {
   "cell_type": "code",
   "execution_count": null,
   "id": "21582299-ae48-45c6-b840-50fd69237127",
   "metadata": {},
   "outputs": [],
   "source": [
    "def crop_dataset_by_lat_lon(ds,latmin,latmax,lonmin,lonmax):\n",
    "    mask = (ds.latitude >= latmin) & (ds.latitude <= latmax) & (ds.longitude >= lonmin+360) & (ds.longitude <= lonmax+360)\n",
    "    ds_masked = ds.where(mask, drop=True)\n",
    "    return ds_masked"
   ]
  },
  {
   "cell_type": "code",
   "execution_count": null,
   "id": "89371bd8-935b-481d-96a6-7388d3cabe76",
   "metadata": {},
   "outputs": [],
   "source": [
    "ds1_masked = crop_dataset_by_lat_lon(ds1,latmin,latmax,lonmin,lonmax)\n",
    "ds2_masked = crop_dataset_by_lat_lon(ds2,latmin,latmax,lonmin,lonmax)"
   ]
  },
  {
   "cell_type": "code",
   "execution_count": null,
   "id": "53ed7bf8-ae34-4475-9f8e-6565e4e02e2e",
   "metadata": {},
   "outputs": [],
   "source": [
    "xv = np.arange(287, 293, 0.008)\n",
    "yv = np.arange(33,39, 0.008)\n",
    "grid_x, grid_y = np.meshgrid(xv, yv)"
   ]
  },
  {
   "cell_type": "code",
   "execution_count": null,
   "id": "76c19944-f323-40e4-9cd9-28338274d09c",
   "metadata": {},
   "outputs": [],
   "source": [
    "# Quick velocities: need to change\n",
    "\n",
    "def quick_velocities(ds, grid_x, grid_y):\n",
    "    ssh=ds.ssha_karin_2+ds.height_cor_xover\n",
    "    lats=ds.latitude\n",
    "    lons=ds.longitude\n",
    "    grid_ssh = griddata((lons.values.ravel(),lats.values.ravel()), ssh.values.ravel(), (grid_x, grid_y), method='linear')\n",
    "    return grid_ssh"
   ]
  },
  {
   "cell_type": "code",
   "execution_count": null,
   "id": "559a4fe5-4823-49fd-acd4-54f4ad3f2ec6",
   "metadata": {},
   "outputs": [],
   "source": [
    "grid_ssh1 = quick_velocities(ds1_masked, grid_x, grid_y)\n",
    "grid_ssh2 = quick_velocities(ds2_masked, grid_x, grid_y)"
   ]
  },
  {
   "cell_type": "code",
   "execution_count": null,
   "id": "608eb203-695a-4940-bd86-400711728b4d",
   "metadata": {},
   "outputs": [],
   "source": [
    "def compute_geos_current(ssh,lat):\n",
    "    \"\"\"\n",
    "    ssh: (m) Make sure this is first corrected with height_cor_xover from L2 data! \n",
    "    lat: degrees N\n",
    "    \"\"\"\n",
    "    \n",
    "    omega = 7.2921159e-05  # angular velocity of the Earth [rad/s]\n",
    "    fc = 2*omega*np.sin(lat*np.pi/180.)\n",
    "        \n",
    "    # avoid zero near equator, bound fc by min val as 1.e-8\n",
    "    f_coriolis = np.sign(fc)*np.maximum(np.abs(fc), 1.e-8)\n",
    "    \n",
    "    dx,dy = 4000,4000 # m i changed it to 4000 to match res? need to double check\n",
    "    gravity = 9.81\n",
    "\n",
    "    dsdy,dsdx=np.array(np.gradient(ssh, dx, edge_order=1))\n",
    "    vg = (gravity/np.array(f_coriolis))*dsdx\n",
    "    ug = -(gravity/np.array(f_coriolis))*dsdy\n",
    "    geos_current = np.sqrt(ug**2 + vg**2)\n",
    "    \n",
    "    return ug,vg,geos_current"
   ]
  },
  {
   "cell_type": "code",
   "execution_count": null,
   "id": "5cad4f58-b457-4715-89b4-80c3c8b8999d",
   "metadata": {},
   "outputs": [],
   "source": [
    "#Calculate\n",
    "ug1,vg1,geos_current1 = compute_geos_current(grid_ssh1,grid_y)\n",
    "ug2,vg2,geos_current2 = compute_geos_current(grid_ssh2,grid_y)"
   ]
  },
  {
   "cell_type": "code",
   "execution_count": null,
   "id": "1e5e5800-4990-47bd-8cf4-977930eaf11b",
   "metadata": {},
   "outputs": [],
   "source": [
    "UU = ug2\n",
    "VV = vg2\n",
    "xx=grid_x\n",
    "yy=grid_y\n",
    "\n",
    "speed = np.sqrt( (UU**2)+(VV**2) ) #is anyone doing EKE with SWOT?\n",
    "\n",
    "#Convert to ualong\n",
    "w=xx+1j*yy\n",
    "\n",
    "ind=np.isfinite(w);\n",
    "wr=np.copy(w)\n",
    "w = w[ind]\n",
    "cv = np.cov(np.stack([np.real(w), np.imag(w)]))\n",
    "theta = 0.5 * np.arctan2(2 * cv[1, 0], (cv[0, 0] - cv[1, 1]))\n",
    "\n",
    "# Find major and minor axis amplitudes\n",
    "term1 = cv[0, 0] + cv[1, 1]\n",
    "term2 = np.sqrt((cv[0, 0] - cv[1, 1])**2 + 4 * cv[1, 0]**2)\n",
    "maj = np.sqrt(0.5 * (term1 + term2))\n",
    "min_ = np.sqrt(0.5 * (term1 - term2))\n",
    "\n",
    "# Rotate into principal ellipse orientation\n",
    "wr[ind] = w * np.exp(-1j * theta) #-1j vs 1j changes direction of rotation\n",
    "\n",
    "# Convert theta to degrees\n",
    "theta_deg = theta * 180 / np.pi\n",
    "\n",
    "xr = np.real(wr)\n",
    "yr = np.imag(wr)\n",
    "\n",
    "# Convert theta to radians\n",
    "theta = np.deg2rad(theta_deg)\n",
    "\n",
    "# Rotate vector (u + iv) by the angle theta\n",
    "b = (UU + 1j * VV) * np.exp(-1j * theta)  # Angle relative to horizontal, rotate clockwise\n",
    "\n",
    "# Extract u_along and u_across\n",
    "u_along2 = np.real(b)\n",
    "u_across2 = np.imag(b)"
   ]
  },
  {
   "cell_type": "code",
   "execution_count": null,
   "id": "f78f3c91-ac9f-42a4-a826-a9d706cef9d3",
   "metadata": {},
   "outputs": [],
   "source": [
    "UU = ug1\n",
    "VV = vg1\n",
    "xx=grid_x\n",
    "yy=grid_y\n",
    "\n",
    "speed = np.sqrt( (UU**2)+(VV**2) ) #is anyone doing EKE with SWOT?\n",
    "\n",
    "#Convert to ualong\n",
    "w=xx+1j*yy\n",
    "\n",
    "ind=np.isfinite(w);\n",
    "wr=np.copy(w)\n",
    "w = w[ind]\n",
    "cv = np.cov(np.stack([np.real(w), np.imag(w)]))\n",
    "theta = 0.5 * np.arctan2(2 * cv[1, 0], (cv[0, 0] - cv[1, 1]))\n",
    "\n",
    "# Find major and minor axis amplitudes\n",
    "term1 = cv[0, 0] + cv[1, 1]\n",
    "term2 = np.sqrt((cv[0, 0] - cv[1, 1])**2 + 4 * cv[1, 0]**2)\n",
    "maj = np.sqrt(0.5 * (term1 + term2))\n",
    "min_ = np.sqrt(0.5 * (term1 - term2))\n",
    "\n",
    "theta=np.pi-theta #for ds_1\n",
    "\n",
    "# Rotate into principal ellipse orientation\n",
    "wr[ind] = w * np.exp(-1j * theta) #-1j vs 1j changes direction of rotation\n",
    "\n",
    "# Convert theta to degrees\n",
    "theta_deg = theta * 180 / np.pi\n",
    "\n",
    "xr = np.real(wr)\n",
    "yr = np.imag(wr)\n",
    "\n",
    "# Convert theta to radians\n",
    "theta = np.deg2rad(theta_deg)\n",
    "\n",
    "# Rotate vector (u + iv) by the angle theta\n",
    "b = (UU + 1j * VV) * np.exp(-1j * theta)  # Angle relative to horizontal, rotate clockwise\n",
    "\n",
    "# Extract u_along and u_across\n",
    "u_along = np.real(b)\n",
    "u_across = np.imag(b)"
   ]
  },
  {
   "cell_type": "code",
   "execution_count": null,
   "id": "ed3d31f0-760a-4dd4-bf29-cbc46bb9b8e7",
   "metadata": {},
   "outputs": [],
   "source": [
    "import utm\n",
    "\n",
    "# Example latitude and longitude\n",
    "latitude = grid_y\n",
    "longitude = grid_x-360\n",
    "\n",
    "# Convert to UTM\n",
    "easting, northing, zone_number, zone_letter = utm.from_latlon(latitude, longitude)"
   ]
  },
  {
   "cell_type": "code",
   "execution_count": null,
   "id": "89846140-f10f-4b26-b16f-7609237281e9",
   "metadata": {},
   "outputs": [],
   "source": [
    "def compute_relative_vorticity(ug, vg, dx, dy):\n",
    "    omega = 7.2921159e-05  # angular velocity of the Earth [rad/s]\n",
    "    lat=36\n",
    "    fc = 2*omega*np.sin(lat*np.pi/180.)\n",
    "    # avoid zero near equator, bound fc by min val as 1.e-8\n",
    "    f_coriolis = np.sign(fc)*np.maximum(np.abs(fc), 1.e-8)\n",
    "\n",
    "    du_dy, du_dx = np.array(np.gradient(ug))\n",
    "    du_dy = du_dy/dy\n",
    "    du_dx=du_dx/dx\n",
    "    \n",
    "    dv_dy, dv_dx = np.array(np.gradient(vg))\n",
    "    dv_dy=dv_dy/dy\n",
    "    dv_dx=dv_dx/dx\n",
    "        \n",
    "    ksi = (dv_dx - du_dy)/f_coriolis\n",
    "        \n",
    "    return ksi"
   ]
  },
  {
   "cell_type": "code",
   "execution_count": null,
   "id": "a2af2529-4183-4a41-8ddd-0ee3ecc5d82d",
   "metadata": {},
   "outputs": [],
   "source": [
    "ksi=compute_relative_vorticity(u_along, u_across, 1, 1)\n",
    "ksi2=compute_relative_vorticity(u_along2, u_across2, 1, 1)"
   ]
  },
  {
   "cell_type": "code",
   "execution_count": null,
   "id": "7b5b3da7-1f7c-4c5f-a6e4-80552330e6d2",
   "metadata": {},
   "outputs": [],
   "source": [
    "fig,ax=plt.subplots(figsize=(7,4))\n",
    "plot = ax.pcolormesh(xr, yr, u_across, shading='auto',cmap='coolwarm',vmin=-1,vmax=1)  # 'shading' option can adjust how cells are rendered\n",
    "cbar = plt.colorbar(plot,ax=ax)\n",
    "cbar.set_label('u_along', rotation=270, labelpad=15)"
   ]
  },
  {
   "cell_type": "code",
   "execution_count": null,
   "id": "18c8459f-0ee6-415f-afec-0f755c3ca01e",
   "metadata": {},
   "outputs": [],
   "source": [
    "fig,ax=plt.subplots(figsize=(7,4))\n",
    "plot = ax.pcolormesh(grid_x, grid_y, ksi, shading='auto',cmap='coolwarm',vmin=-1,vmax=1)  # 'shading' option can adjust how cells are rendered\n",
    "plot = ax.pcolormesh(grid_x, grid_y, ksi2, shading='auto',cmap='coolwarm',vmin=-1,vmax=1)  # 'shading' option can adjust how cells are rendered\n",
    "cbar = plt.colorbar(plot,ax=ax)\n",
    "cbar.set_label('vorticity', rotation=270, labelpad=15)"
   ]
  },
  {
   "cell_type": "markdown",
   "id": "62a34fef-9b33-457d-b35c-ab57972e5129",
   "metadata": {},
   "source": [
    "Convert u,v to u',v' in direction of swath to calculate geostrophic strain and geostrophic vorticity. Generate JPDFs. Do regions of trapping / mixing appear in distinct regions of this diagram?"
   ]
  }
 ],
 "metadata": {
  "kernelspec": {
   "display_name": "Python 3 (ipykernel)",
   "language": "python",
   "name": "python3"
  },
  "language_info": {
   "codemirror_mode": {
    "name": "ipython",
    "version": 3
   },
   "file_extension": ".py",
   "mimetype": "text/x-python",
   "name": "python",
   "nbconvert_exporter": "python",
   "pygments_lexer": "ipython3",
   "version": "3.10.14"
  }
 },
 "nbformat": 4,
 "nbformat_minor": 5
}
