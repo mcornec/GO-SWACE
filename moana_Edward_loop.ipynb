{
 "cells": [
  {
   "cell_type": "markdown",
   "id": "741c16ca",
   "metadata": {
    "tags": []
   },
   "source": [
    "# Edward as visualized by Moana on May 8\n",
    "\n",
    "### Important note\n",
    "It takes <font color='red'>over 50 minutes</font> to run this notebook! Especially line [7]. There is no way around it, I confirmed it with NASA.\n",
    "\n",
    "### Contents\n",
    "1. Setup\n",
    "2. Edward zoomed-out\n",
    "3. Create dataset with lat long coordinates\n",
    "4. Edward zoomed-in (NOT based on lat long coordinates)"
   ]
  },
  {
   "cell_type": "markdown",
   "id": "8f1109e5",
   "metadata": {
    "tags": []
   },
   "source": [
    "# 1. Setup"
   ]
  },
  {
   "cell_type": "code",
   "execution_count": 22,
   "id": "02a1b72f",
   "metadata": {},
   "outputs": [],
   "source": [
    "# Import libraries and functions\n",
    "import csv\n",
    "import os\n",
    "\n",
    "import cartopy.crs as ccrs\n",
    "import earthaccess\n",
    "import xarray as xr\n",
    "import matplotlib.pyplot as plt\n",
    "import numpy as np\n",
    "import pandas as pd\n",
    "from datetime import datetime, timedelta\n",
    "import subprocess"
   ]
  },
  {
   "cell_type": "markdown",
   "id": "f3dd665d",
   "metadata": {
    "tags": []
   },
   "source": [
    "#### Note on function to help write OCSSW parameter files\n",
    "To write the results in the format understood by OCSSW, this function uses the `csv.writer` from the Python Standard Library. Instead of writing comma-separated values, however, we specify a non-default delimiter to get equals-separated values. Not something you usually see in a data file, but it's better than\n",
    "writing our own utility from scratch! Learn more under: #help(write_par)"
   ]
  },
  {
   "cell_type": "code",
   "execution_count": 5,
   "id": "e004099f-8d8b-43f4-b32e-4861dbd7bfce",
   "metadata": {},
   "outputs": [
    {
     "data": {
      "text/plain": [
       "<earthaccess.auth.Auth at 0x7fe6f9ffbb90>"
      ]
     },
     "execution_count": 5,
     "metadata": {},
     "output_type": "execute_result"
    }
   ],
   "source": [
    "earthaccess.login()"
   ]
  },
  {
   "cell_type": "code",
   "execution_count": 6,
   "id": "8d2a5ebc",
   "metadata": {},
   "outputs": [],
   "source": [
    "# Define function to help write parameter files\n",
    "def write_par(path, par):\n",
    "    \"\"\"\n",
    "    Prepare a \"par file\" to be read by one of the OCSSW tools, as an\n",
    "    alternative to specifying each parameter on the command line.\n",
    "\n",
    "    Args:\n",
    "        path (str): where to write the parameter file\n",
    "        par (dict): the parameter names and values included in the file\n",
    "    \"\"\"\n",
    "    with open(path, \"w\") as file:\n",
    "        writer = csv.writer(file, delimiter=\"=\")\n",
    "        values = writer.writerows(par.items())"
   ]
  },
  {
   "cell_type": "markdown",
   "id": "74c069ea-1cb9-43d3-a578-b6bfef81275a",
   "metadata": {},
   "source": [
    "Get list of dates to run MOANA "
   ]
  },
  {
   "cell_type": "code",
   "execution_count": 8,
   "id": "7ce05f4b-74a1-4600-8dd5-659d7f4c39ea",
   "metadata": {},
   "outputs": [],
   "source": [
    "df = pd.read_csv(\"CHL_TIMESERIES_PACE.csv\")\n",
    "dates=df['satdate'].values"
   ]
  },
  {
   "cell_type": "markdown",
   "id": "1a45c79d",
   "metadata": {
    "tags": []
   },
   "source": [
    "# 2. Run through dates above, MOANA images of interest"
   ]
  },
  {
   "cell_type": "markdown",
   "id": "55cab7e5",
   "metadata": {
    "tags": []
   },
   "source": [
    "#### Note on l2bin:\n",
    "It is very slow, takes <font color='red'>over 50 minutes</font> to run.\n",
    "There is <font color='red'>no way to pre-define a boundary box upfront</font>: the entire region has to run and then we have to crop."
   ]
  },
  {
   "cell_type": "code",
   "execution_count": 29,
   "id": "c93c1d20-164f-4074-ba5d-fcf88e6dffdf",
   "metadata": {},
   "outputs": [
    {
     "data": {
      "text/plain": [
       "'/home/jovyan/GO-SWACE'"
      ]
     },
     "execution_count": 29,
     "metadata": {},
     "output_type": "execute_result"
    }
   ],
   "source": [
    "os.getcwd()"
   ]
  },
  {
   "cell_type": "code",
   "execution_count": 25,
   "id": "e25a3ad8-c420-4951-9769-b21e857aab66",
   "metadata": {},
   "outputs": [
    {
     "name": "stdout",
     "output_type": "stream",
     "text": [
      "Granules found: 1\n",
      " Getting 1 granules, approx download size: 1.73 GB\n",
      "Accessing cloud dataset using dataset endpoint credentials: https://obdaac-tea.earthdatacloud.nasa.gov/s3credentials\n",
      "Downloaded: data/PACE_OCI.20240426T171515.L1B.V2.nc\n"
     ]
    },
    {
     "ename": "FileNotFoundError",
     "evalue": "[Errno 2] No such file or directory: 'executemoana.sh'",
     "output_type": "error",
     "traceback": [
      "\u001b[0;31m---------------------------------------------------------------------------\u001b[0m",
      "\u001b[0;31mFileNotFoundError\u001b[0m                         Traceback (most recent call last)",
      "Cell \u001b[0;32mIn[25], line 42\u001b[0m\n\u001b[1;32m     39\u001b[0m write_par(\u001b[38;5;124m\"\u001b[39m\u001b[38;5;124ml2gen-moana.par\u001b[39m\u001b[38;5;124m\"\u001b[39m, par)\n\u001b[1;32m     41\u001b[0m \u001b[38;5;66;03m#Execute short bash script to run MOANA\u001b[39;00m\n\u001b[0;32m---> 42\u001b[0m rc \u001b[38;5;241m=\u001b[39m \u001b[43msubprocess\u001b[49m\u001b[38;5;241;43m.\u001b[39;49m\u001b[43mcall\u001b[49m\u001b[43m(\u001b[49m\u001b[38;5;124;43m\"\u001b[39;49m\u001b[38;5;124;43mexecutemoana.sh\u001b[39;49m\u001b[38;5;124;43m\"\u001b[39;49m\u001b[43m)\u001b[49m\n\u001b[1;32m     44\u001b[0m \u001b[38;5;66;03m#Extract data and save as netcdf\u001b[39;00m\n\u001b[1;32m     45\u001b[0m dataset_geophysical \u001b[38;5;241m=\u001b[39m xr\u001b[38;5;241m.\u001b[39mopen_dataset(par[\u001b[38;5;124m\"\u001b[39m\u001b[38;5;124mofile\u001b[39m\u001b[38;5;124m\"\u001b[39m], group\u001b[38;5;241m=\u001b[39m\u001b[38;5;124m\"\u001b[39m\u001b[38;5;124mgeophysical_data\u001b[39m\u001b[38;5;124m\"\u001b[39m)\n",
      "File \u001b[0;32m/srv/conda/envs/notebook/lib/python3.11/subprocess.py:389\u001b[0m, in \u001b[0;36mcall\u001b[0;34m(timeout, *popenargs, **kwargs)\u001b[0m\n\u001b[1;32m    381\u001b[0m \u001b[38;5;28;01mdef\u001b[39;00m \u001b[38;5;21mcall\u001b[39m(\u001b[38;5;241m*\u001b[39mpopenargs, timeout\u001b[38;5;241m=\u001b[39m\u001b[38;5;28;01mNone\u001b[39;00m, \u001b[38;5;241m*\u001b[39m\u001b[38;5;241m*\u001b[39mkwargs):\n\u001b[1;32m    382\u001b[0m \u001b[38;5;250m    \u001b[39m\u001b[38;5;124;03m\"\"\"Run command with arguments.  Wait for command to complete or\u001b[39;00m\n\u001b[1;32m    383\u001b[0m \u001b[38;5;124;03m    timeout, then return the returncode attribute.\u001b[39;00m\n\u001b[1;32m    384\u001b[0m \n\u001b[0;32m   (...)\u001b[0m\n\u001b[1;32m    387\u001b[0m \u001b[38;5;124;03m    retcode = call([\"ls\", \"-l\"])\u001b[39;00m\n\u001b[1;32m    388\u001b[0m \u001b[38;5;124;03m    \"\"\"\u001b[39;00m\n\u001b[0;32m--> 389\u001b[0m     \u001b[38;5;28;01mwith\u001b[39;00m \u001b[43mPopen\u001b[49m\u001b[43m(\u001b[49m\u001b[38;5;241;43m*\u001b[39;49m\u001b[43mpopenargs\u001b[49m\u001b[43m,\u001b[49m\u001b[43m \u001b[49m\u001b[38;5;241;43m*\u001b[39;49m\u001b[38;5;241;43m*\u001b[39;49m\u001b[43mkwargs\u001b[49m\u001b[43m)\u001b[49m \u001b[38;5;28;01mas\u001b[39;00m p:\n\u001b[1;32m    390\u001b[0m         \u001b[38;5;28;01mtry\u001b[39;00m:\n\u001b[1;32m    391\u001b[0m             \u001b[38;5;28;01mreturn\u001b[39;00m p\u001b[38;5;241m.\u001b[39mwait(timeout\u001b[38;5;241m=\u001b[39mtimeout)\n",
      "File \u001b[0;32m/srv/conda/envs/notebook/lib/python3.11/subprocess.py:1026\u001b[0m, in \u001b[0;36mPopen.__init__\u001b[0;34m(self, args, bufsize, executable, stdin, stdout, stderr, preexec_fn, close_fds, shell, cwd, env, universal_newlines, startupinfo, creationflags, restore_signals, start_new_session, pass_fds, user, group, extra_groups, encoding, errors, text, umask, pipesize, process_group)\u001b[0m\n\u001b[1;32m   1022\u001b[0m         \u001b[38;5;28;01mif\u001b[39;00m \u001b[38;5;28mself\u001b[39m\u001b[38;5;241m.\u001b[39mtext_mode:\n\u001b[1;32m   1023\u001b[0m             \u001b[38;5;28mself\u001b[39m\u001b[38;5;241m.\u001b[39mstderr \u001b[38;5;241m=\u001b[39m io\u001b[38;5;241m.\u001b[39mTextIOWrapper(\u001b[38;5;28mself\u001b[39m\u001b[38;5;241m.\u001b[39mstderr,\n\u001b[1;32m   1024\u001b[0m                     encoding\u001b[38;5;241m=\u001b[39mencoding, errors\u001b[38;5;241m=\u001b[39merrors)\n\u001b[0;32m-> 1026\u001b[0m     \u001b[38;5;28;43mself\u001b[39;49m\u001b[38;5;241;43m.\u001b[39;49m\u001b[43m_execute_child\u001b[49m\u001b[43m(\u001b[49m\u001b[43margs\u001b[49m\u001b[43m,\u001b[49m\u001b[43m \u001b[49m\u001b[43mexecutable\u001b[49m\u001b[43m,\u001b[49m\u001b[43m \u001b[49m\u001b[43mpreexec_fn\u001b[49m\u001b[43m,\u001b[49m\u001b[43m \u001b[49m\u001b[43mclose_fds\u001b[49m\u001b[43m,\u001b[49m\n\u001b[1;32m   1027\u001b[0m \u001b[43m                        \u001b[49m\u001b[43mpass_fds\u001b[49m\u001b[43m,\u001b[49m\u001b[43m \u001b[49m\u001b[43mcwd\u001b[49m\u001b[43m,\u001b[49m\u001b[43m \u001b[49m\u001b[43menv\u001b[49m\u001b[43m,\u001b[49m\n\u001b[1;32m   1028\u001b[0m \u001b[43m                        \u001b[49m\u001b[43mstartupinfo\u001b[49m\u001b[43m,\u001b[49m\u001b[43m \u001b[49m\u001b[43mcreationflags\u001b[49m\u001b[43m,\u001b[49m\u001b[43m \u001b[49m\u001b[43mshell\u001b[49m\u001b[43m,\u001b[49m\n\u001b[1;32m   1029\u001b[0m \u001b[43m                        \u001b[49m\u001b[43mp2cread\u001b[49m\u001b[43m,\u001b[49m\u001b[43m \u001b[49m\u001b[43mp2cwrite\u001b[49m\u001b[43m,\u001b[49m\n\u001b[1;32m   1030\u001b[0m \u001b[43m                        \u001b[49m\u001b[43mc2pread\u001b[49m\u001b[43m,\u001b[49m\u001b[43m \u001b[49m\u001b[43mc2pwrite\u001b[49m\u001b[43m,\u001b[49m\n\u001b[1;32m   1031\u001b[0m \u001b[43m                        \u001b[49m\u001b[43merrread\u001b[49m\u001b[43m,\u001b[49m\u001b[43m \u001b[49m\u001b[43merrwrite\u001b[49m\u001b[43m,\u001b[49m\n\u001b[1;32m   1032\u001b[0m \u001b[43m                        \u001b[49m\u001b[43mrestore_signals\u001b[49m\u001b[43m,\u001b[49m\n\u001b[1;32m   1033\u001b[0m \u001b[43m                        \u001b[49m\u001b[43mgid\u001b[49m\u001b[43m,\u001b[49m\u001b[43m \u001b[49m\u001b[43mgids\u001b[49m\u001b[43m,\u001b[49m\u001b[43m \u001b[49m\u001b[43muid\u001b[49m\u001b[43m,\u001b[49m\u001b[43m \u001b[49m\u001b[43mumask\u001b[49m\u001b[43m,\u001b[49m\n\u001b[1;32m   1034\u001b[0m \u001b[43m                        \u001b[49m\u001b[43mstart_new_session\u001b[49m\u001b[43m,\u001b[49m\u001b[43m \u001b[49m\u001b[43mprocess_group\u001b[49m\u001b[43m)\u001b[49m\n\u001b[1;32m   1035\u001b[0m \u001b[38;5;28;01mexcept\u001b[39;00m:\n\u001b[1;32m   1036\u001b[0m     \u001b[38;5;66;03m# Cleanup if the child failed starting.\u001b[39;00m\n\u001b[1;32m   1037\u001b[0m     \u001b[38;5;28;01mfor\u001b[39;00m f \u001b[38;5;129;01min\u001b[39;00m \u001b[38;5;28mfilter\u001b[39m(\u001b[38;5;28;01mNone\u001b[39;00m, (\u001b[38;5;28mself\u001b[39m\u001b[38;5;241m.\u001b[39mstdin, \u001b[38;5;28mself\u001b[39m\u001b[38;5;241m.\u001b[39mstdout, \u001b[38;5;28mself\u001b[39m\u001b[38;5;241m.\u001b[39mstderr)):\n",
      "File \u001b[0;32m/srv/conda/envs/notebook/lib/python3.11/subprocess.py:1953\u001b[0m, in \u001b[0;36mPopen._execute_child\u001b[0;34m(self, args, executable, preexec_fn, close_fds, pass_fds, cwd, env, startupinfo, creationflags, shell, p2cread, p2cwrite, c2pread, c2pwrite, errread, errwrite, restore_signals, gid, gids, uid, umask, start_new_session, process_group)\u001b[0m\n\u001b[1;32m   1951\u001b[0m     err_msg \u001b[38;5;241m=\u001b[39m os\u001b[38;5;241m.\u001b[39mstrerror(errno_num)\n\u001b[1;32m   1952\u001b[0m \u001b[38;5;28;01mif\u001b[39;00m err_filename \u001b[38;5;129;01mis\u001b[39;00m \u001b[38;5;129;01mnot\u001b[39;00m \u001b[38;5;28;01mNone\u001b[39;00m:\n\u001b[0;32m-> 1953\u001b[0m     \u001b[38;5;28;01mraise\u001b[39;00m child_exception_type(errno_num, err_msg, err_filename)\n\u001b[1;32m   1954\u001b[0m \u001b[38;5;28;01melse\u001b[39;00m:\n\u001b[1;32m   1955\u001b[0m     \u001b[38;5;28;01mraise\u001b[39;00m child_exception_type(errno_num, err_msg)\n",
      "\u001b[0;31mFileNotFoundError\u001b[0m: [Errno 2] No such file or directory: 'executemoana.sh'"
     ]
    }
   ],
   "source": [
    "for i in range(0,len(dates)):\n",
    "\n",
    "    #First, define date and location to search for Edward\n",
    "    sel=str(dates[i])\n",
    "    date = datetime.strptime(sel, '%Y%m%d').strftime('%m/%d/%Y')\n",
    "    begindate=sel[0:4]+'-'+sel[4:6]+'-'+sel[6:8]\n",
    "    \n",
    "    input=date\n",
    "    format = '%m/%d/%Y'\n",
    "    datetime = datetime.strptime(input, format)\n",
    "    datetime+= timedelta(days=1)\n",
    "    enddate=str(datetime.date())\n",
    "\n",
    "    tspan = (begindate, enddate)\n",
    "    location = (-70, 36) # We can not use Boundary box, as l2gen can not process that information\n",
    "    \n",
    "    results = earthaccess.search_data(\n",
    "        short_name=\"PACE_OCI_L1B_SCI\",\n",
    "        temporal=tspan,\n",
    "        point=location,\n",
    "    )\n",
    "    results[0]\n",
    "\n",
    "    #Open and download PACE data\n",
    "    paths = earthaccess.download(results, local_path=\"data\")\n",
    "    #open dataset\n",
    "    dataset = xr.open_dataset(paths[0], group=\"observation_data\")\n",
    "\n",
    "    # Define parameters\n",
    "    ifile = paths[0]\n",
    "    par = {\n",
    "        \"ifile\": ifile,\n",
    "        \"ofile\": str(ifile).replace(\".L1B.\", \".L2_MOANA.\"),\n",
    "        \"suite\": \"BGC\",\n",
    "        \"l2prod\": \"picoeuk_moana prococcus_moana syncoccus_moana rhos_465 rhos_555 rhos_645 poc chlor_a \",\n",
    "        \"atmocor\": 1,\n",
    "    }\n",
    "    write_par(\"l2gen-moana.par\", par)\n",
    "\n",
    "    #Execute short bash script to run MOANA\n",
    "    subprocess.run([\"bash\", \"executemoana.sh\"])\n",
    "    \n",
    "    #Extract data and save as netcdf\n",
    "    dataset_geophysical = xr.open_dataset(par[\"ofile\"], group=\"geophysical_data\")\n",
    "\n",
    "    # Create dataset with lat long coordinates\n",
    "    dataset_navigation = xr.open_dataset(par[\"ofile\"], group=\"navigation_data\")\n",
    "    dataset_merged = xr.merge((dataset, nav))\n",
    "\n",
    "    # Download file as netCDF\n",
    "    datasetname='moana'+sel\n",
    "    dataset.to_netcdf(datasetname)"
   ]
  }
 ],
 "metadata": {
  "kernelspec": {
   "display_name": "Python 3 (ipykernel)",
   "language": "python",
   "name": "python3"
  },
  "language_info": {
   "codemirror_mode": {
    "name": "ipython",
    "version": 3
   },
   "file_extension": ".py",
   "mimetype": "text/x-python",
   "name": "python",
   "nbconvert_exporter": "python",
   "pygments_lexer": "ipython3",
   "version": "3.11.8"
  }
 },
 "nbformat": 4,
 "nbformat_minor": 5
}
