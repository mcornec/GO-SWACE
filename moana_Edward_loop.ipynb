{
 "cells": [
  {
   "cell_type": "markdown",
   "id": "741c16ca",
   "metadata": {
    "tags": []
   },
   "source": [
    "# Edward as visualized by Moana on May 8\n",
    "\n",
    "### Important note\n",
    "It takes <font color='red'>over 50 minutes</font> to run this notebook! Especially line [7]. There is no way around it, I confirmed it with NASA.\n",
    "\n",
    "### Contents\n",
    "1. Setup\n",
    "2. Edward zoomed-out\n",
    "3. Create dataset with lat long coordinates\n",
    "4. Edward zoomed-in (NOT based on lat long coordinates)"
   ]
  },
  {
   "cell_type": "markdown",
   "id": "8f1109e5",
   "metadata": {
    "tags": []
   },
   "source": [
    "# 1. Setup"
   ]
  },
  {
   "cell_type": "code",
   "execution_count": 22,
   "id": "02a1b72f",
   "metadata": {},
   "outputs": [],
   "source": [
    "# Import libraries and functions\n",
    "import csv\n",
    "import os\n",
    "\n",
    "import cartopy.crs as ccrs\n",
    "import earthaccess\n",
    "import xarray as xr\n",
    "import matplotlib.pyplot as plt\n",
    "import numpy as np\n",
    "import pandas as pd\n",
    "from datetime import datetime, timedelta\n",
    "import subprocess"
   ]
  },
  {
   "cell_type": "markdown",
   "id": "f3dd665d",
   "metadata": {
    "tags": []
   },
   "source": [
    "#### Note on function to help write OCSSW parameter files\n",
    "To write the results in the format understood by OCSSW, this function uses the `csv.writer` from the Python Standard Library. Instead of writing comma-separated values, however, we specify a non-default delimiter to get equals-separated values. Not something you usually see in a data file, but it's better than\n",
    "writing our own utility from scratch! Learn more under: #help(write_par)"
   ]
  },
  {
   "cell_type": "code",
   "execution_count": 5,
   "id": "e004099f-8d8b-43f4-b32e-4861dbd7bfce",
   "metadata": {},
   "outputs": [
    {
     "data": {
      "text/plain": [
       "<earthaccess.auth.Auth at 0x7fe6f9ffbb90>"
      ]
     },
     "execution_count": 5,
     "metadata": {},
     "output_type": "execute_result"
    }
   ],
   "source": [
    "earthaccess.login()"
   ]
  },
  {
   "cell_type": "code",
   "execution_count": 6,
   "id": "8d2a5ebc",
   "metadata": {},
   "outputs": [],
   "source": [
    "# Define function to help write parameter files\n",
    "def write_par(path, par):\n",
    "    \"\"\"\n",
    "    Prepare a \"par file\" to be read by one of the OCSSW tools, as an\n",
    "    alternative to specifying each parameter on the command line.\n",
    "\n",
    "    Args:\n",
    "        path (str): where to write the parameter file\n",
    "        par (dict): the parameter names and values included in the file\n",
    "    \"\"\"\n",
    "    with open(path, \"w\") as file:\n",
    "        writer = csv.writer(file, delimiter=\"=\")\n",
    "        values = writer.writerows(par.items())"
   ]
  },
  {
   "cell_type": "markdown",
   "id": "74c069ea-1cb9-43d3-a578-b6bfef81275a",
   "metadata": {},
   "source": [
    "Get list of dates to run MOANA "
   ]
  },
  {
   "cell_type": "code",
   "execution_count": 8,
   "id": "7ce05f4b-74a1-4600-8dd5-659d7f4c39ea",
   "metadata": {},
   "outputs": [],
   "source": [
    "df = pd.read_csv(\"CHL_TIMESERIES_PACE.csv\")\n",
    "dates=df['satdate'].values"
   ]
  },
  {
   "cell_type": "markdown",
   "id": "1a45c79d",
   "metadata": {
    "tags": []
   },
   "source": [
    "# 2. Run through dates above, MOANA images of interest"
   ]
  },
  {
   "cell_type": "markdown",
   "id": "55cab7e5",
   "metadata": {
    "tags": []
   },
   "source": [
    "#### Note on l2bin:\n",
    "It is very slow, takes <font color='red'>over 50 minutes</font> to run.\n",
    "There is <font color='red'>no way to pre-define a boundary box upfront</font>: the entire region has to run and then we have to crop."
   ]
  },
  {
   "cell_type": "code",
   "execution_count": null,
   "id": "e25a3ad8-c420-4951-9769-b21e857aab66",
   "metadata": {},
   "outputs": [
    {
     "name": "stdout",
     "output_type": "stream",
     "text": [
      "Granules found: 1\n",
      " Getting 1 granules, approx download size: 1.73 GB\n",
      "Accessing cloud dataset using dataset endpoint credentials: https://obdaac-tea.earthdatacloud.nasa.gov/s3credentials\n"
     ]
    }
   ],
   "source": [
    "for i in range(0,1):\n",
    "\n",
    "    #First, define date and location to search for Edward\n",
    "    sel=str(dates[i])\n",
    "    date = datetime.strptime(sel, '%Y%m%d').strftime('%m/%d/%Y')\n",
    "    begindate=sel[0:4]+'-'+sel[4:6]+'-'+sel[6:8]\n",
    "    \n",
    "    input=date\n",
    "    format = '%m/%d/%Y'\n",
    "    datetime = datetime.strptime(input, format)\n",
    "    datetime+= timedelta(days=1)\n",
    "    enddate=str(datetime.date())\n",
    "\n",
    "    \n",
    "    tspan = (begindate, enddate)\n",
    "    location = (-70, 36) # We can not use Boundary box, as l2gen can not process that information\n",
    "    \n",
    "    results = earthaccess.search_data(\n",
    "        short_name=\"PACE_OCI_L1B_SCI\",\n",
    "        temporal=tspan,\n",
    "        point=location,\n",
    "    )\n",
    "    results[0]\n",
    "\n",
    "    #Open and download PACE data\n",
    "    paths = earthaccess.download(results, local_path=\"data\")\n",
    "    #open dataset\n",
    "    dataset = xr.open_dataset(paths[0], group=\"observation_data\")\n",
    "\n",
    "    # Define parameters\n",
    "    ifile = paths[0]\n",
    "    par = {\n",
    "        \"ifile\": ifile,\n",
    "        \"ofile\": str(ifile).replace(\".L1B.\", \".L2_MOANA.\"),\n",
    "        \"suite\": \"BGC\",\n",
    "        \"l2prod\": \"picoeuk_moana prococcus_moana syncoccus_moana rhos_465 rhos_555 rhos_645 poc chlor_a \",\n",
    "        \"atmocor\": 1,\n",
    "    }\n",
    "    write_par(\"l2gen-moana.par\", par)\n",
    "\n",
    "    #Execute short bash script to run MOANA\n",
    "    rc = subprocess.call(\"executemoana.sh\")\n",
    "    \n",
    "    #Extract data and save as netcdf\n",
    "    dataset_geophysical = xr.open_dataset(par[\"ofile\"], group=\"geophysical_data\")\n",
    "\n",
    "    # Create dataset with lat long coordinates\n",
    "    dataset_navigation = xr.open_dataset(par[\"ofile\"], group=\"navigation_data\")\n",
    "    dataset_merged = xr.merge((dataset, nav))\n",
    "\n",
    "    # Download file as netCDF\n",
    "    datasetname='moana'+sel\n",
    "    dataset.to_netcdf(datasetname)"
   ]
  },
  {
   "cell_type": "code",
   "execution_count": null,
   "id": "b2b55d04-9ba1-49de-9126-2f4896e68a0c",
   "metadata": {},
   "outputs": [],
   "source": []
  },
  {
   "cell_type": "code",
   "execution_count": null,
   "id": "8d30348a-9adf-4de7-89f5-25640a4dcafb",
   "metadata": {},
   "outputs": [],
   "source": []
  },
  {
   "cell_type": "code",
   "execution_count": null,
   "id": "caafed5e-721a-42ec-ab18-109a3fe9de03",
   "metadata": {},
   "outputs": [],
   "source": []
  },
  {
   "cell_type": "code",
   "execution_count": null,
   "id": "864cb2f7-350a-436c-ae00-57996ec6f4b8",
   "metadata": {},
   "outputs": [],
   "source": []
  },
  {
   "cell_type": "code",
   "execution_count": null,
   "id": "88c674af-6682-4096-9d68-76d9b6a7f893",
   "metadata": {},
   "outputs": [],
   "source": []
  },
  {
   "cell_type": "code",
   "execution_count": null,
   "id": "44b23b36-c398-4610-977e-fed433e16848",
   "metadata": {},
   "outputs": [],
   "source": []
  },
  {
   "cell_type": "code",
   "execution_count": null,
   "id": "565ef69e-9fb2-4263-a62d-f67f39cbca76",
   "metadata": {},
   "outputs": [],
   "source": []
  },
  {
   "cell_type": "code",
   "execution_count": null,
   "id": "517dafe3-0359-4aef-b5ab-6f368953b7b6",
   "metadata": {},
   "outputs": [],
   "source": []
  }
 ],
 "metadata": {
  "kernelspec": {
   "display_name": "Python 3 (ipykernel)",
   "language": "python",
   "name": "python3"
  },
  "language_info": {
   "codemirror_mode": {
    "name": "ipython",
    "version": 3
   },
   "file_extension": ".py",
   "mimetype": "text/x-python",
   "name": "python",
   "nbconvert_exporter": "python",
   "pygments_lexer": "ipython3",
   "version": "3.11.8"
  }
 },
 "nbformat": 4,
 "nbformat_minor": 5
}
