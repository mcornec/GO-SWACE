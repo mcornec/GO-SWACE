{
 "cells": [
  {
   "cell_type": "markdown",
   "id": "2ca11e54-bbea-4ff3-b378-bc70f998fda4",
   "metadata": {},
   "source": [
    "# Plot all PACE from eddy of interest\n",
    "\n",
    "Authors: SEL, LJK "
   ]
  },
  {
   "cell_type": "code",
   "execution_count": 14,
   "id": "3888b2d9-36d6-493e-9136-e60ebd2f599c",
   "metadata": {},
   "outputs": [],
   "source": [
    "import earthaccess\n",
    "import xarray as xr\n",
    "from xarray.backends.api import open_datatree\n",
    "import matplotlib.pyplot as plt\n",
    "import cartopy.crs as ccrs\n",
    "import numpy as np\n",
    "import matplotlib.animation as animation\n",
    "import os"
   ]
  },
  {
   "cell_type": "code",
   "execution_count": 15,
   "id": "91f323c1-6296-4f8f-9ffb-83131cf2b7a5",
   "metadata": {},
   "outputs": [],
   "source": [
    "auth = earthaccess.login(persist=True)"
   ]
  },
  {
   "cell_type": "markdown",
   "id": "4dc11951-b953-498e-bc70-7980f938f152",
   "metadata": {},
   "source": [
    "### TO DO: Switch out specialid for correct eddy ID based on AVISO eddy product. Switch out AVISO eddy filename below for correct one"
   ]
  },
  {
   "cell_type": "code",
   "execution_count": 16,
   "id": "b70ccbaa-314c-4f3b-8b82-72a477afccac",
   "metadata": {},
   "outputs": [],
   "source": [
    "specialid='eddy_ID164996'\n",
    "aviso_ds = xr.open_dataset('Eddy_trajectory_nrt_3.2exp_cyclonic_20180101_20241111_ID_164996.nc')"
   ]
  },
  {
   "cell_type": "code",
   "execution_count": 17,
   "id": "88a479c1-7411-4d22-bfaa-70dbebf7d43e",
   "metadata": {},
   "outputs": [
    {
     "name": "stdout",
     "output_type": "stream",
     "text": [
      "2023-08-21T00:00:00.000000000\n",
      "2024-09-05T00:00:00.000000000\n",
      "382\n"
     ]
    }
   ],
   "source": [
    "dates = [i for i in aviso_ds.time.values] # these are sorted already\n",
    "print(min(dates))\n",
    "print(max(dates)) # still existed at the end of the dataset\n",
    "center_lats = [i for i in aviso_ds.latitude.values]\n",
    "center_lons = [i for i in aviso_ds.longitude.values]\n",
    "print(len(center_lats))"
   ]
  },
  {
   "cell_type": "code",
   "execution_count": 7,
   "id": "a7301f2c-5404-4b41-871c-27a9300dce6b",
   "metadata": {},
   "outputs": [],
   "source": [
    "tminny=str(min(dates))\n",
    "tminny=tminny[0:10]\n",
    "tmaxxy=str(max(dates))\n",
    "tmaxxy=tmaxxy[0:10]\n",
    "tmin,tmax = tminny,tmaxxy"
   ]
  },
  {
   "cell_type": "code",
   "execution_count": 8,
   "id": "cba52687-a884-462b-acb4-9ba042e2c3d7",
   "metadata": {},
   "outputs": [
    {
     "name": "stdout",
     "output_type": "stream",
     "text": [
      "382\n"
     ]
    }
   ],
   "source": [
    "center_lats = [i for i in aviso_ds.latitude.values]\n",
    "center_lons = [i for i in aviso_ds.longitude.values]\n",
    "print(len(center_lats))"
   ]
  },
  {
   "cell_type": "code",
   "execution_count": 9,
   "id": "5d4148d8-7727-4cf8-92d2-150776a47dce",
   "metadata": {},
   "outputs": [],
   "source": [
    "#Define box based on eddy\n",
    "latmin,latmax = min(center_lats)-2,max(center_lats)+2\n",
    "lonmin,lonmax = min(center_lons)-360-2,max(center_lons)-360+2"
   ]
  },
  {
   "cell_type": "code",
   "execution_count": 10,
   "id": "786ea886-7f5f-4a96-b799-0f30b3b70642",
   "metadata": {},
   "outputs": [],
   "source": [
    "# tspan = (\"2024-04-01\", \"2024-09-20\")\n",
    "tspan=(tmin,tmax)\n",
    "clouds = (0, 100)\n",
    "bbox = (lonmin, latmin, lonmax, latmax) #edward"
   ]
  },
  {
   "cell_type": "code",
   "execution_count": 11,
   "id": "8466d7a6-52db-431f-a9fd-8ea5adad0087",
   "metadata": {},
   "outputs": [],
   "source": [
    "results = earthaccess.search_data(\n",
    "    short_name=\"PACE_OCI_L2_BGC_NRT\",\n",
    "    temporal=tspan,\n",
    "    bounding_box=bbox,\n",
    "    cloud_cover=clouds,\n",
    ")"
   ]
  },
  {
   "cell_type": "code",
   "execution_count": 13,
   "id": "0ba6d844-a2f2-47b8-882d-f76dd0f3da1b",
   "metadata": {},
   "outputs": [],
   "source": [
    "paths = earthaccess.open(results) #'streaming' data"
   ]
  },
  {
   "cell_type": "code",
   "execution_count": null,
   "id": "9cdfd6fa-23c4-4e9c-ac76-b1c85e8b7c9d",
   "metadata": {},
   "outputs": [],
   "source": [
    "def get_eddy_by_ID_date(ds,eddy_date):\n",
    "    \"\"\"\n",
    "    ds: netCDF AVISO format\n",
    "    track_id: id of eddy to extract\n",
    "    eddy_date: date in format 'YYYY-MM-DD'\n",
    "\n",
    "    Returns contour lons, contour lats, center lon, center lat\n",
    "    \"\"\"\n",
    "    try:\n",
    "        ind = np.where(ds.time == np.datetime64(eddy_date))[0][0]\n",
    "        contour_lons = np.array(ds.effective_contour_longitude[ind])\n",
    "        contour_lats = np.array(ds.effective_contour_latitude[ind])\n",
    "    except:\n",
    "        print('No eddy data available with that request ... :(')        \n",
    "    \n",
    "    return contour_lons,contour_lats,ds.longitude[ind],ds.latitude[ind]"
   ]
  },
  {
   "cell_type": "code",
   "execution_count": null,
   "id": "9b6ee47a-9ca7-479d-891c-9200abeb239d",
   "metadata": {},
   "outputs": [],
   "source": [
    "for index in range(0,len(paths)):\n",
    "    datatree = open_datatree(paths[index])\n",
    "    datatree\n",
    "    dataset = xr.merge(datatree.to_dict().values())\n",
    "    dataset\n",
    "    dataset = dataset.set_coords((\"longitude\", \"latitude\"))\n",
    "\n",
    "    h=str(paths[index])\n",
    "    datey=h[64:72]\n",
    "    \n",
    "    date_requested=datey\n",
    "    contour_lons,contour_lats,center_lon,center_lat = get_eddy_by_ID_date(aviso_ds,'%s-%s-%s'%(date_requested[0:4],date_requested[4:6],date_requested[6:8]))\n",
    "\n",
    "    fig = plt.figure()\n",
    "    ax = plt.axes(projection=ccrs.PlateCarree())\n",
    "    ax.coastlines()\n",
    "    ax.gridlines(draw_labels={\"left\": \"y\", \"bottom\": \"x\"})\n",
    "    plot = dataset[\"chlor_a\"].plot(x=\"longitude\", y=\"latitude\", cmap=\"Spectral_r\", vmax=0.5, ax=ax)\n",
    "    ax.set_ylabel('latitude')\n",
    "    ax.set_xlabel('longitude')\n",
    "    ax.set_ylim([latmin,latmax])\n",
    "    ax.set_xlim([lonmin,lonmax])\n",
    "    ax.plot(contour_lons-360,contour_lats,zorder=100,c='k',linewidth=2)\n",
    "    ax.set_title(datey[0:4]+'-'+datey[4:6]+'-'+datey[6:len(datey)])\n",
    "    if len(str(index))==1:\n",
    "        plt.savefig(str(specialid)+'CHL'+str(0)+str(0)+str(index).split('.')[0]+'pace.png')\n",
    "    elif len(str(index))==2:\n",
    "        plt.savefig(str(specialid)+'CHL'+str(0)+str(index).split('.')[0]+'pace.png')\n",
    "    else:\n",
    "        plt.savefig(str(specialid)+'CHL'+str(index).split('.')[0]+'pace.png')\n",
    "    plt.close()"
   ]
  },
  {
   "cell_type": "code",
   "execution_count": null,
   "id": "3a64c606-0dac-42a0-a1f5-9f9a8e170d81",
   "metadata": {},
   "outputs": [],
   "source": [
    "# Get a list of all PNG files in the directory\n",
    "image_dir = '/home/jovyan/GO-SWACE/'\n",
    "images = [img for img in os.listdir(image_dir) if img.endswith(\"pace.png\")]\n",
    "images.sort()  # Sort the images if needed\n",
    "# Create a figure and axis for the animation\n",
    "fig, ax = plt.subplots()\n",
    "\n",
    "# Function to update the figure for each frame\n",
    "def update(frame):\n",
    "    img_path = os.path.join(image_dir, images[frame])\n",
    "    img = plt.imread(img_path)\n",
    "    ax.imshow(img)\n",
    "    ax.axis('off')  # Hide axes\n",
    "# Create the animation\n",
    "ani = animation.FuncAnimation(fig, update, frames=len(images), repeat=True)\n",
    "\n",
    "# Save the animation as a GIF or display it\n",
    "# ani.save('animation_edward_all.gif', writer='imagemagick', fps=3)  # Save as GIF #was fps=2\n",
    "ani.save('animation_PACE_' + str(specialid) + '.gif', writer='imagemagick', fps=4)  # fps is frames per second. Lower numbers = slower speeds\n",
    "\n",
    "# plt.show()  # Uncomment to display the animation\n",
    "\n",
    "print(\"Animation created successfully.\")"
   ]
  },
  {
   "cell_type": "code",
   "execution_count": null,
   "id": "e02539c6-0791-4780-bba0-3bbcb4ddb85b",
   "metadata": {},
   "outputs": [],
   "source": [
    "# image_dir = '/home/jovyan/tutorials/'\n",
    "# images = [img for img in os.listdir(image_dir) if img.endswith(\".png\")]\n",
    "# images\n",
    "\n",
    "# for index in range(0,len(images)):\n",
    "#     filename=images[index]\n",
    "#     if len(images[index])==12:\n",
    "#         newfilename=filename[0:6]+str(0)+filename[6:12]\n",
    "#         os.rename(filename, newfilename)\n",
    "#     elif len(images[index])==11:\n",
    "#         newfilename=filename[0:6]+str(0)+str(0)+filename[6:12]\n",
    "#         os.rename(filename, newfilename)"
   ]
  },
  {
   "cell_type": "markdown",
   "id": "b74d50f1-a777-4955-92c0-77a870d213f2",
   "metadata": {},
   "source": [
    "# Single Frame Chl "
   ]
  },
  {
   "cell_type": "code",
   "execution_count": null,
   "id": "76b0de73-b90c-4f41-818f-59aff814575d",
   "metadata": {},
   "outputs": [],
   "source": [
    "# # Set default fontsizes for plots\n",
    "# fontsize = 18\n",
    "\n",
    "# plt.rc('font', size=fontsize)          # controls default text sizes\n",
    "# plt.rc('axes', titlesize=fontsize)     # fontsize of the axes title\n",
    "# plt.rc('axes', labelsize=fontsize)    # fontsize of the x and y labels\n",
    "# plt.rc('xtick', labelsize=fontsize)    # fontsize of the tick labels\n",
    "# plt.rc('ytick', labelsize=fontsize)    # fontsize of the tick labels\n",
    "# plt.rc('legend', fontsize=fontsize)    # legend fontsize\n",
    "# plt.rc('figure', titlesize=fontsize)  # fontsize of the figure title"
   ]
  },
  {
   "cell_type": "code",
   "execution_count": null,
   "id": "25badcfc-de3c-40e2-af21-9a1755d652d3",
   "metadata": {},
   "outputs": [],
   "source": [
    "# def find_edward_by_date(date_to_plot):\n",
    "#     \"\"\"\n",
    "#     date_to_plot: format \"yyyy-mm-dd\"\n",
    "#     \"\"\"\n",
    "#     tspan = (date_to_plot, date_to_plot)\n",
    "#     bbox = (-73, 35, -70, 37) #edward\n",
    "\n",
    "#     try:\n",
    "#         results = earthaccess.search_data(\n",
    "#             short_name=\"PACE_OCI_L2_BGC_NRT\",\n",
    "#             temporal=tspan,\n",
    "#             bounding_box=bbox)\n",
    "#         paths = earthaccess.open(results) #'streaming' data\n",
    "#         datatree = open_datatree(paths[0]) # could be multiple paths on the same day, just taking one\n",
    "#         dataset = xr.merge(datatree.to_dict().values())\n",
    "#     except:\n",
    "#         print('No Edward data today :(')\n",
    "#         dataset = None\n",
    "    \n",
    "#     return dataset"
   ]
  },
  {
   "cell_type": "code",
   "execution_count": null,
   "id": "5ccd6663-ad96-4b76-ac34-bf35d6caf6c6",
   "metadata": {},
   "outputs": [],
   "source": [
    "# dataset = find_edward_by_date(\"2024-04-14\")"
   ]
  },
  {
   "cell_type": "code",
   "execution_count": null,
   "id": "a17d9020-0f7f-4c13-ab36-c4d485b78945",
   "metadata": {},
   "outputs": [],
   "source": [
    "# fig.clf()\n",
    "# fig,ax=plt.subplots(1,1,figsize=(10,7))\n",
    "\n",
    "# plot=ax.pcolormesh(dataset[\"longitude\"],dataset[\"latitude\"],dataset[\"chlor_a\"],cmap='Spectral_r',vmax=0.5)\n",
    "# cbar = plt.colorbar(plot,ax=ax)\n",
    "# cbar.set_label('Chl-a (mg $ \\cdot m^{-3}$)', rotation=270, labelpad=20)\n",
    "\n",
    "# ax.set_ylim([33,38])\n",
    "# ax.set_xlim([-73,-67])\n",
    "\n",
    "\n",
    "# ax.set_title(date_to_plot)\n",
    "# ax.set_ylabel('Latitude (N$^{\\circ}$)')\n",
    "# ax.set_xlabel('Longitude (E$^{\\circ}$)')\n",
    "\n",
    "# #plt.savefig('Edward_chl_%s.png'%(date_to_plot),dpi=300)"
   ]
  },
  {
   "cell_type": "markdown",
   "id": "fb0e9e74-0c66-41b4-83a7-4e171bd54b4b",
   "metadata": {},
   "source": [
    "# Double Frame Chl "
   ]
  },
  {
   "cell_type": "code",
   "execution_count": null,
   "id": "f3d60ff2-d3c8-4c92-9b2c-a4f5c6cf2e29",
   "metadata": {},
   "outputs": [],
   "source": [
    "# dataset_0414 = find_edward_by_date(\"2024-04-14\")\n",
    "# dataset_0508 = find_edward_by_date(\"2024-05-08\")"
   ]
  },
  {
   "cell_type": "code",
   "execution_count": null,
   "id": "6ab684d1-fdf6-4474-a1c2-e583d7389125",
   "metadata": {},
   "outputs": [],
   "source": [
    "# #fig.clf()\n",
    "# fig,ax=plt.subplots(1,2,figsize=(14,5))\n",
    "# plt.subplots_adjust(wspace=0.1)\n",
    "\n",
    "# a = 0\n",
    "# for ds in [dataset_0414,dataset_0508]:\n",
    "\n",
    "#     #plot=ax[a].pcolormesh(ds[\"longitude\"],ds[\"latitude\"],np.log(ds[\"chlor_a\"]),cmap='ocean_r',vmin=-2,vmax=-0.7)\n",
    "#     plot=ax[a].pcolormesh(ds[\"longitude\"],ds[\"latitude\"],ds[\"chlor_a\"],cmap='Spectral_r',vmin=0.1,vmax=0.45)\n",
    "#     a += 1\n",
    "\n",
    "# #cbar = plt.colorbar(plot,ax=ax)\n",
    "\n",
    "# cbar = fig.colorbar(plot, ax=ax, orientation='vertical')\n",
    "# cbar.set_label('Chl-a (mg $ \\cdot m^{-3}$)', rotation=270, labelpad=20)\n",
    "\n",
    "# ax[0].set_title(\"14 Apr 2024\")\n",
    "# ax[1].set_title(\"08 May 2024\")\n",
    "\n",
    "# # Single ax params\n",
    "# ax[0].set_ylabel('Latitude (N$^{\\circ}$)')\n",
    "# ax[1].set_yticklabels([])\n",
    "\n",
    "# for a in [0,1]:\n",
    "#     ax[a].set_ylim([33,38])\n",
    "#     ax[a].set_xlim([-73,-67])\n",
    "#     ax[a].set_xlabel('Longitude (E$^{\\circ}$)')\n",
    "#     ax[a].set_facecolor('#e2e2e2')\n",
    "\n",
    "# #plt.savefig('Edward_chl_0414_0508.png',dpi=300,bbox_inches='tight')"
   ]
  },
  {
   "cell_type": "code",
   "execution_count": null,
   "id": "f8a1762f-01ad-42f6-9649-02f4ad5c21e2",
   "metadata": {},
   "outputs": [],
   "source": []
  }
 ],
 "metadata": {
  "kernelspec": {
   "display_name": "Python 3 (ipykernel)",
   "language": "python",
   "name": "python3"
  },
  "language_info": {
   "codemirror_mode": {
    "name": "ipython",
    "version": 3
   },
   "file_extension": ".py",
   "mimetype": "text/x-python",
   "name": "python",
   "nbconvert_exporter": "python",
   "pygments_lexer": "ipython3",
   "version": "3.10.14"
  }
 },
 "nbformat": 4,
 "nbformat_minor": 5
}
